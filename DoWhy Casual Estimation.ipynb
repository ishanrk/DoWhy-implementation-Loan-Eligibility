{
 "cells": [
  {
   "cell_type": "markdown",
   "id": "a7ff6cc4",
   "metadata": {},
   "source": [
    "Author: "
   ]
  },
  {
   "cell_type": "code",
   "execution_count": 309,
   "id": "4241e888",
   "metadata": {},
   "outputs": [],
   "source": [
    "# Some imports to get us started\n",
    "\n",
    "import warnings\n",
    "warnings.simplefilter('ignore')\n",
    "\n",
    "# Utilities\n",
    "import os\n",
    "import urllib.request\n",
    "import numpy as np\n",
    "import pandas as pd\n",
    "from networkx.drawing.nx_pydot import to_pydot\n",
    "from IPython.display import Image, display\n",
    "\n",
    "# Generic ML imports\n",
    "import xgboost\n",
    "from xgboost import XGBRegressor, XGBClassifier\n",
    "\n",
    "# EconML imports\n",
    "from econml.dr import LinearDRLearner\n",
    "\n",
    "# DoWhy imports \n",
    "import dowhy\n",
    "from dowhy import CausalModel\n",
    "\n",
    "import matplotlib.pyplot as plt\n",
    "import seaborn as sns\n",
    "\n",
    "%matplotlib inline"
   ]
  },
  {
   "cell_type": "markdown",
   "id": "3809aef0",
   "metadata": {},
   "source": [
    "Loan is the main profit source for a bank with the profit mainly generated from the interest paid on the loan. Inorder to get this process profitable, the bank needs to know if the loan applicant will be able to pay back the loan along with the interest. Inorder to make this decision, in this article, we discuss the Bayesian Network way of predicting the eligibility of the loan applicant.  In doing so we will discuss about how different variables are involved to understand the causal relationship which helps us to find the conditional probability for different states of the variables in the network. "
   ]
  },
  {
   "cell_type": "markdown",
   "id": "d458b8a7",
   "metadata": {},
   "source": [
    "The task is learn a Bayesian Network for finding the loan elligibility for the applicant who wants to buy a Property in one of the three different areas. \n",
    "\n"
   ]
  },
  {
   "cell_type": "markdown",
   "id": "54e35515",
   "metadata": {},
   "source": [
    "# Data Exploration and Preprocessing"
   ]
  },
  {
   "cell_type": "markdown",
   "id": "4a78ccb1",
   "metadata": {},
   "source": [
    "Before starting with Baysian Network learning, we need to explore the dataset and preprocess it for the task in hand. We are going to be using the loan eligibility dataset at https://github.com/mridulrb/Predict-loan-eligibility-using-IBM-Watson-Studio/tree/master/Dataset"
   ]
  },
  {
   "cell_type": "markdown",
   "id": "61c5634d",
   "metadata": {},
   "source": [
    "For our purposes, we are going to use pandas for loading the csv files in the provided dataset. We are going to load train set to form one dataframe called \"data\". In this case, we are not using test file and will make data for testing from samples in train file since test file does not have the ground truth. We do this for preprocessing all the data together. Later for inference using BN, we are going to split this data into test and train dataframes."
   ]
  },
  {
   "cell_type": "code",
   "execution_count": 310,
   "id": "3fc675d8",
   "metadata": {},
   "outputs": [],
   "source": [
    "import matplotlib.pyplot as plt\n",
    "import pandas as pd\n",
    "%matplotlib inline\n",
    "import numpy as np\n",
    "import seaborn as sns\n",
    "data=pd.read_csv(\"Loan_data.csv\")"
   ]
  },
  {
   "cell_type": "code",
   "execution_count": 311,
   "id": "bd391d33",
   "metadata": {},
   "outputs": [
    {
     "data": {
      "text/html": [
       "<div>\n",
       "<style scoped>\n",
       "    .dataframe tbody tr th:only-of-type {\n",
       "        vertical-align: middle;\n",
       "    }\n",
       "\n",
       "    .dataframe tbody tr th {\n",
       "        vertical-align: top;\n",
       "    }\n",
       "\n",
       "    .dataframe thead th {\n",
       "        text-align: right;\n",
       "    }\n",
       "</style>\n",
       "<table border=\"1\" class=\"dataframe\">\n",
       "  <thead>\n",
       "    <tr style=\"text-align: right;\">\n",
       "      <th></th>\n",
       "      <th>Loan_ID</th>\n",
       "      <th>Gender</th>\n",
       "      <th>Married</th>\n",
       "      <th>Dependents</th>\n",
       "      <th>Education</th>\n",
       "      <th>Self_Employed</th>\n",
       "      <th>ApplicantIncome</th>\n",
       "      <th>CoapplicantIncome</th>\n",
       "      <th>LoanAmount</th>\n",
       "      <th>Loan_Amount_Term</th>\n",
       "      <th>Credit_History</th>\n",
       "      <th>Property_Area</th>\n",
       "      <th>Loan_Status</th>\n",
       "    </tr>\n",
       "  </thead>\n",
       "  <tbody>\n",
       "    <tr>\n",
       "      <th>0</th>\n",
       "      <td>LP001002</td>\n",
       "      <td>Male</td>\n",
       "      <td>No</td>\n",
       "      <td>0</td>\n",
       "      <td>Graduate</td>\n",
       "      <td>No</td>\n",
       "      <td>5849</td>\n",
       "      <td>0.0</td>\n",
       "      <td>NaN</td>\n",
       "      <td>360.0</td>\n",
       "      <td>1.0</td>\n",
       "      <td>Urban</td>\n",
       "      <td>Y</td>\n",
       "    </tr>\n",
       "    <tr>\n",
       "      <th>1</th>\n",
       "      <td>LP001003</td>\n",
       "      <td>Male</td>\n",
       "      <td>Yes</td>\n",
       "      <td>1</td>\n",
       "      <td>Graduate</td>\n",
       "      <td>No</td>\n",
       "      <td>4583</td>\n",
       "      <td>1508.0</td>\n",
       "      <td>128.0</td>\n",
       "      <td>360.0</td>\n",
       "      <td>1.0</td>\n",
       "      <td>Rural</td>\n",
       "      <td>N</td>\n",
       "    </tr>\n",
       "    <tr>\n",
       "      <th>2</th>\n",
       "      <td>LP001005</td>\n",
       "      <td>Male</td>\n",
       "      <td>Yes</td>\n",
       "      <td>0</td>\n",
       "      <td>Graduate</td>\n",
       "      <td>Yes</td>\n",
       "      <td>3000</td>\n",
       "      <td>0.0</td>\n",
       "      <td>66.0</td>\n",
       "      <td>360.0</td>\n",
       "      <td>1.0</td>\n",
       "      <td>Urban</td>\n",
       "      <td>Y</td>\n",
       "    </tr>\n",
       "    <tr>\n",
       "      <th>3</th>\n",
       "      <td>LP001006</td>\n",
       "      <td>Male</td>\n",
       "      <td>Yes</td>\n",
       "      <td>0</td>\n",
       "      <td>Not Graduate</td>\n",
       "      <td>No</td>\n",
       "      <td>2583</td>\n",
       "      <td>2358.0</td>\n",
       "      <td>120.0</td>\n",
       "      <td>360.0</td>\n",
       "      <td>1.0</td>\n",
       "      <td>Urban</td>\n",
       "      <td>Y</td>\n",
       "    </tr>\n",
       "    <tr>\n",
       "      <th>4</th>\n",
       "      <td>LP001008</td>\n",
       "      <td>Male</td>\n",
       "      <td>No</td>\n",
       "      <td>0</td>\n",
       "      <td>Graduate</td>\n",
       "      <td>No</td>\n",
       "      <td>6000</td>\n",
       "      <td>0.0</td>\n",
       "      <td>141.0</td>\n",
       "      <td>360.0</td>\n",
       "      <td>1.0</td>\n",
       "      <td>Urban</td>\n",
       "      <td>Y</td>\n",
       "    </tr>\n",
       "  </tbody>\n",
       "</table>\n",
       "</div>"
      ],
      "text/plain": [
       "    Loan_ID Gender Married Dependents     Education Self_Employed  \\\n",
       "0  LP001002   Male      No          0      Graduate            No   \n",
       "1  LP001003   Male     Yes          1      Graduate            No   \n",
       "2  LP001005   Male     Yes          0      Graduate           Yes   \n",
       "3  LP001006   Male     Yes          0  Not Graduate            No   \n",
       "4  LP001008   Male      No          0      Graduate            No   \n",
       "\n",
       "   ApplicantIncome  CoapplicantIncome  LoanAmount  Loan_Amount_Term  \\\n",
       "0             5849                0.0         NaN             360.0   \n",
       "1             4583             1508.0       128.0             360.0   \n",
       "2             3000                0.0        66.0             360.0   \n",
       "3             2583             2358.0       120.0             360.0   \n",
       "4             6000                0.0       141.0             360.0   \n",
       "\n",
       "   Credit_History Property_Area Loan_Status  \n",
       "0             1.0         Urban           Y  \n",
       "1             1.0         Rural           N  \n",
       "2             1.0         Urban           Y  \n",
       "3             1.0         Urban           Y  \n",
       "4             1.0         Urban           Y  "
      ]
     },
     "execution_count": 311,
     "metadata": {},
     "output_type": "execute_result"
    }
   ],
   "source": [
    "data.head()"
   ]
  },
  {
   "cell_type": "markdown",
   "id": "8ed680b8",
   "metadata": {},
   "source": [
    "We can use the data.head() command to see the top few rows of the loaded dataframe. This gives us an idea about different variables involved. A quick look at \"LoanAmount\" shows that there are also missing values in the dataset labelled with Nan. This is normally the case and we first need to find out the missing values for each of the variables and then fill them up.\n",
    "\n",
    "For this purpose, we are going to apply isnull function using the code given in the cell below, which finds the missing values for each variable in the dataset"
   ]
  },
  {
   "cell_type": "code",
   "execution_count": 312,
   "id": "ec1bcaa4",
   "metadata": {
    "scrolled": false
   },
   "outputs": [
    {
     "data": {
      "text/plain": [
       "Loan_ID               0\n",
       "Gender               13\n",
       "Married               3\n",
       "Dependents           15\n",
       "Education             0\n",
       "Self_Employed        32\n",
       "ApplicantIncome       0\n",
       "CoapplicantIncome     0\n",
       "LoanAmount           22\n",
       "Loan_Amount_Term     14\n",
       "Credit_History       50\n",
       "Property_Area         0\n",
       "Loan_Status           0\n",
       "dtype: int64"
      ]
     },
     "execution_count": 312,
     "metadata": {},
     "output_type": "execute_result"
    }
   ],
   "source": [
    "data.apply(lambda x: sum(x.isnull()),axis=0)"
   ]
  },
  {
   "cell_type": "markdown",
   "id": "5e34a549",
   "metadata": {},
   "source": [
    "We can see that some of the variables have missing values. Depending upon the type of variable, we are going to use mode for categorical variables for filling missing values and mean for filling numerical variables."
   ]
  },
  {
   "cell_type": "code",
   "execution_count": 313,
   "id": "10b5d28d",
   "metadata": {},
   "outputs": [],
   "source": [
    "#categorical\n",
    "data['Gender'].fillna(data['Gender'].mode()[0], inplace=True)\n",
    "data['Married'].fillna(data['Married'].mode()[0], inplace=True)\n",
    "data['Dependents'].fillna(data['Dependents'].mode()[0], inplace=True)\n",
    "data['Loan_Amount_Term'].fillna(data['Loan_Amount_Term'].mode()[0], inplace=True)\n",
    "data['Credit_History'].fillna(data['Credit_History'].mode()[0], inplace=True)\n",
    "data['Self_Employed'].fillna(data['Self_Employed'].mode()[0], inplace=True)\n",
    "#numerical\n",
    "data['LoanAmount'].fillna(data['LoanAmount'].mean(), inplace=True)"
   ]
  },
  {
   "cell_type": "markdown",
   "id": "c379493c",
   "metadata": {},
   "source": [
    "In this work, we are going to be utilzing the Bayesian Network Strucuture learning method of causalNex for learning the causal relationships between the variables. Although, for the case of loan eligibility problem and in general, there is a need for domain knowledge for setting up the structure of the BN but first we are going to use the inbuilt algorithms in causalNex to demonstrate autmatic learning using causalNex. Later on, we will use domain knowledge for Loan eligibility to setup a structure for BN. The structure leanring function of causalNex requires the data to be in numeric form so we are going to first convert the data for this purpose."
   ]
  },
  {
   "cell_type": "markdown",
   "id": "5ed76f02",
   "metadata": {},
   "source": [
    "We begin by finding the columns which have categorical form and the following code snippet can be used to extract the columns that corresspond to categorical variables"
   ]
  },
  {
   "cell_type": "code",
   "execution_count": 314,
   "id": "60b610b0",
   "metadata": {},
   "outputs": [],
   "source": [
    "drop_col = ['Loan_ID']\n",
    "data = data.drop(columns=drop_col)"
   ]
  },
  {
   "cell_type": "code",
   "execution_count": 315,
   "id": "7cc8739a",
   "metadata": {},
   "outputs": [
    {
     "name": "stdout",
     "output_type": "stream",
     "text": [
      "['Gender', 'Married', 'Dependents', 'Education', 'Self_Employed', 'Property_Area', 'Loan_Status']\n"
     ]
    }
   ],
   "source": [
    "import numpy as np\n",
    "\n",
    "struct_data = data.copy()\n",
    "non_numeric_columns = list(struct_data.select_dtypes(exclude=[np.number]).columns)\n",
    "\n",
    "print(non_numeric_columns)"
   ]
  },
  {
   "cell_type": "markdown",
   "id": "1a4dadf0",
   "metadata": {},
   "source": [
    "For this work, we are also going to convert the numerical variables into categories for causelNex implementation. For this data, we have the following variables currently corressponding to numerical variables:\n",
    "\n",
    "LoanAmount\n",
    "\n",
    "ApplicantIncome\n",
    "\n",
    "Coapplicantincome\n",
    "\n",
    "Loan_Amount_Term\n",
    "\n",
    "\n",
    "First, for the sake of easy demonstration, we are going sum the ApplicantIncome and Coapplicantincome into one variable called TotalIncome and drop the variables ApplicantIncome and CoapplicantIncome from the overall data. The following code snippet can be used for this purpose."
   ]
  },
  {
   "cell_type": "code",
   "execution_count": 316,
   "id": "9ff39e7f",
   "metadata": {},
   "outputs": [],
   "source": [
    "struct_data['TotalIncome']= struct_data['ApplicantIncome'] +struct_data['CoapplicantIncome'] \n",
    "drop_col = ['ApplicantIncome','CoapplicantIncome']\n",
    "struct_data = struct_data.drop(columns=drop_col)"
   ]
  },
  {
   "cell_type": "markdown",
   "id": "b7e67870",
   "metadata": {},
   "source": [
    "Inorder to ultimately convert the numerical variables into catergorical, we first need to discretize the numerical variables. Inorder to box thse variables into discrete bins, we first need to decide the bin boundaries. For this purpose we are going to use boxplot and hitogram to visualize these variables"
   ]
  },
  {
   "cell_type": "code",
   "execution_count": 317,
   "id": "4301d634",
   "metadata": {},
   "outputs": [
    {
     "data": {
      "image/png": "[encoded data removed]",
      "text/plain": [
       "<Figure size 432x288 with 1 Axes>"
      ]
     },
     "metadata": {
      "needs_background": "light"
     },
     "output_type": "display_data"
    },
    {
     "data": {
      "image/png": "[encoded data removed]",
      "text/plain": [
       "<Figure size 432x288 with 1 Axes>"
      ]
     },
     "metadata": {
      "needs_background": "light"
     },
     "output_type": "display_data"
    },
    {
     "data": {
      "image/png": "[encoded data removed]",
      "text/plain": [
       "<Figure size 432x288 with 1 Axes>"
      ]
     },
     "metadata": {
      "needs_background": "light"
     },
     "output_type": "display_data"
    }
   ],
   "source": [
    "sns.boxplot(y='TotalIncome',data=struct_data)\n",
    "plt.figure()\n",
    "sns.boxplot(y='LoanAmount',data=data)\n",
    "plt.figure()\n",
    "sns.distplot(data.Loan_Amount_Term.dropna(),kde=False)\n",
    "plt.show()"
   ]
  },
  {
   "cell_type": "markdown",
   "id": "68bff345",
   "metadata": {},
   "source": [
    "\n",
    "\n",
    "\n",
    "We can see from the above plots that the following boundaries can be used for the variables:\n",
    "\n",
    "TotalIncome = [15000,50000]\n",
    "\n",
    "LoanAmount = [200,550]\n",
    "\n",
    "Loan_Amount_Term = [365]\n",
    "\n",
    "\n",
    "Now that we have the boundaries, we need to convert the variables into descretized values"
   ]
  },
  {
   "cell_type": "code",
   "execution_count": 318,
   "id": "8a5bfe57",
   "metadata": {},
   "outputs": [],
   "source": [
    "discretised_data = struct_data.copy()"
   ]
  },
  {
   "cell_type": "code",
   "execution_count": 319,
   "id": "b98af307",
   "metadata": {},
   "outputs": [
    {
     "name": "stdout",
     "output_type": "stream",
     "text": [
      "<bound method NDFrame.head of      Gender Married Dependents     Education Self_Employed  LoanAmount  \\\n",
      "0      Male      No          0      Graduate            No    0.198860   \n",
      "1      Male     Yes          1      Graduate            No    0.172214   \n",
      "2      Male     Yes          0      Graduate           Yes    0.082489   \n",
      "3      Male     Yes          0  Not Graduate            No    0.160637   \n",
      "4      Male      No          0      Graduate            No    0.191027   \n",
      "..      ...     ...        ...           ...           ...         ...   \n",
      "609  Female      No          0      Graduate            No    0.089725   \n",
      "610    Male     Yes         3+      Graduate            No    0.044863   \n",
      "611    Male     Yes          1      Graduate            No    0.353111   \n",
      "612    Male     Yes          2      Graduate            No    0.257598   \n",
      "613  Female      No          0      Graduate           Yes    0.179450   \n",
      "\n",
      "     Loan_Amount_Term  Credit_History Property_Area Loan_Status  TotalIncome  \n",
      "0            0.743590             1.0         Urban           Y     0.055394  \n",
      "1            0.743590             1.0         Rural           N     0.058435  \n",
      "2            0.743590             1.0         Urban           Y     0.019583  \n",
      "3            0.743590             1.0         Urban           Y     0.043980  \n",
      "4            0.743590             1.0         Urban           Y     0.057292  \n",
      "..                ...             ...           ...         ...          ...  \n",
      "609          0.743590             1.0         Rural           Y     0.018326  \n",
      "610          0.358974             1.0         Rural           Y     0.033485  \n",
      "611          0.743590             1.0         Urban           Y     0.086352  \n",
      "612          0.743590             1.0         Urban           Y     0.077189  \n",
      "613          0.743590             0.0     Semiurban           N     0.039481  \n",
      "\n",
      "[614 rows x 11 columns]>\n"
     ]
    }
   ],
   "source": [
    "\n",
    "discretised_data = struct_data.copy()\n",
    "from sklearn.preprocessing import MinMaxScaler\n",
    "\n",
    "scaler = MinMaxScaler()\n",
    "discretised_data[['TotalIncome','LoanAmount','Loan_Amount_Term']] = scaler.fit_transform(discretised_data[['TotalIncome','LoanAmount','Loan_Amount_Term']])\n",
    "print(discretised_data.head)"
   ]
  },
  {
   "cell_type": "markdown",
   "id": "249a72e1",
   "metadata": {},
   "source": [
    "After descrtising the data, we can then map the bins into different categories. We use three different categories for TotalIncome & LoanAmount i.e low, medium, high and two categories for Loan_Amount_Term."
   ]
  },
  {
   "cell_type": "markdown",
   "id": "73308250",
   "metadata": {},
   "source": [
    "We can now use the non-numeric variables and map them into numeric form since the BN structure learning model requries numeric variables"
   ]
  },
  {
   "cell_type": "code",
   "execution_count": 320,
   "id": "4a613392",
   "metadata": {},
   "outputs": [
    {
     "data": {
      "text/html": [
       "<div>\n",
       "<style scoped>\n",
       "    .dataframe tbody tr th:only-of-type {\n",
       "        vertical-align: middle;\n",
       "    }\n",
       "\n",
       "    .dataframe tbody tr th {\n",
       "        vertical-align: top;\n",
       "    }\n",
       "\n",
       "    .dataframe thead th {\n",
       "        text-align: right;\n",
       "    }\n",
       "</style>\n",
       "<table border=\"1\" class=\"dataframe\">\n",
       "  <thead>\n",
       "    <tr style=\"text-align: right;\">\n",
       "      <th></th>\n",
       "      <th>Gender</th>\n",
       "      <th>Married</th>\n",
       "      <th>Dependents</th>\n",
       "      <th>Education</th>\n",
       "      <th>Self_Employed</th>\n",
       "      <th>LoanAmount</th>\n",
       "      <th>Loan_Amount_Term</th>\n",
       "      <th>Credit_History</th>\n",
       "      <th>Property_Area</th>\n",
       "      <th>Loan_Status</th>\n",
       "      <th>TotalIncome</th>\n",
       "    </tr>\n",
       "  </thead>\n",
       "  <tbody>\n",
       "    <tr>\n",
       "      <th>0</th>\n",
       "      <td>1</td>\n",
       "      <td>0</td>\n",
       "      <td>0</td>\n",
       "      <td>0</td>\n",
       "      <td>0</td>\n",
       "      <td>0.198860</td>\n",
       "      <td>0.74359</td>\n",
       "      <td>1</td>\n",
       "      <td>2</td>\n",
       "      <td>1</td>\n",
       "      <td>0.055394</td>\n",
       "    </tr>\n",
       "    <tr>\n",
       "      <th>1</th>\n",
       "      <td>1</td>\n",
       "      <td>1</td>\n",
       "      <td>1</td>\n",
       "      <td>0</td>\n",
       "      <td>0</td>\n",
       "      <td>0.172214</td>\n",
       "      <td>0.74359</td>\n",
       "      <td>1</td>\n",
       "      <td>0</td>\n",
       "      <td>0</td>\n",
       "      <td>0.058435</td>\n",
       "    </tr>\n",
       "    <tr>\n",
       "      <th>2</th>\n",
       "      <td>1</td>\n",
       "      <td>1</td>\n",
       "      <td>0</td>\n",
       "      <td>0</td>\n",
       "      <td>1</td>\n",
       "      <td>0.082489</td>\n",
       "      <td>0.74359</td>\n",
       "      <td>1</td>\n",
       "      <td>2</td>\n",
       "      <td>1</td>\n",
       "      <td>0.019583</td>\n",
       "    </tr>\n",
       "    <tr>\n",
       "      <th>3</th>\n",
       "      <td>1</td>\n",
       "      <td>1</td>\n",
       "      <td>0</td>\n",
       "      <td>1</td>\n",
       "      <td>0</td>\n",
       "      <td>0.160637</td>\n",
       "      <td>0.74359</td>\n",
       "      <td>1</td>\n",
       "      <td>2</td>\n",
       "      <td>1</td>\n",
       "      <td>0.043980</td>\n",
       "    </tr>\n",
       "    <tr>\n",
       "      <th>4</th>\n",
       "      <td>1</td>\n",
       "      <td>0</td>\n",
       "      <td>0</td>\n",
       "      <td>0</td>\n",
       "      <td>0</td>\n",
       "      <td>0.191027</td>\n",
       "      <td>0.74359</td>\n",
       "      <td>1</td>\n",
       "      <td>2</td>\n",
       "      <td>1</td>\n",
       "      <td>0.057292</td>\n",
       "    </tr>\n",
       "  </tbody>\n",
       "</table>\n",
       "</div>"
      ],
      "text/plain": [
       "   Gender  Married  Dependents  Education  Self_Employed  LoanAmount  \\\n",
       "0       1        0           0          0              0    0.198860   \n",
       "1       1        1           1          0              0    0.172214   \n",
       "2       1        1           0          0              1    0.082489   \n",
       "3       1        1           0          1              0    0.160637   \n",
       "4       1        0           0          0              0    0.191027   \n",
       "\n",
       "   Loan_Amount_Term  Credit_History  Property_Area  Loan_Status  TotalIncome  \n",
       "0           0.74359               1              2            1     0.055394  \n",
       "1           0.74359               1              0            0     0.058435  \n",
       "2           0.74359               1              2            1     0.019583  \n",
       "3           0.74359               1              2            1     0.043980  \n",
       "4           0.74359               1              2            1     0.057292  "
      ]
     },
     "execution_count": 320,
     "metadata": {},
     "output_type": "execute_result"
    }
   ],
   "source": [
    "from sklearn.preprocessing import LabelEncoder\n",
    "non_numeric_columns = list(discretised_data.select_dtypes(exclude=[np.number]).columns)\n",
    "\n",
    "le = LabelEncoder()\n",
    "\n",
    "for col in non_numeric_columns:\n",
    "    discretised_data[col] = le.fit_transform(discretised_data[col])\n",
    "discretised_data[\"Credit_History\"] = discretised_data[\"Credit_History\"].astype(int)\n",
    "\n",
    "\n",
    "discretised_data.head(5)"
   ]
  },
  {
   "cell_type": "markdown",
   "id": "9f7f666d",
   "metadata": {},
   "source": [
    "Since DoWhy is based on Causal Inference, we need to make a sample treatment Financial Advice: maps to 0 for no, 1 for yes.\n",
    "The Financial_Advice_func function has defined a treatment taking into account all relevant features."
   ]
  },
  {
   "cell_type": "code",
   "execution_count": 322,
   "id": "dc6992fc",
   "metadata": {},
   "outputs": [
    {
     "name": "stdout",
     "output_type": "stream",
     "text": [
      "<bound method NDFrame.head of      Gender  Married  Dependents  Education  Self_Employed  LoanAmount  \\\n",
      "0         1        0           0          0              0    0.198860   \n",
      "1         1        1           1          0              0    0.172214   \n",
      "2         1        1           0          0              1    0.082489   \n",
      "3         1        1           0          1              0    0.160637   \n",
      "4         1        0           0          0              0    0.191027   \n",
      "..      ...      ...         ...        ...            ...         ...   \n",
      "609       0        0           0          0              0    0.089725   \n",
      "610       1        1           3          0              0    0.044863   \n",
      "611       1        1           1          0              0    0.353111   \n",
      "612       1        1           2          0              0    0.257598   \n",
      "613       0        0           0          0              1    0.179450   \n",
      "\n",
      "     Loan_Amount_Term  Credit_History  Property_Area  Loan_Status  \\\n",
      "0            0.743590               1              2            1   \n",
      "1            0.743590               1              0            0   \n",
      "2            0.743590               1              2            1   \n",
      "3            0.743590               1              2            1   \n",
      "4            0.743590               1              2            1   \n",
      "..                ...             ...            ...          ...   \n",
      "609          0.743590               1              0            1   \n",
      "610          0.358974               1              0            1   \n",
      "611          0.743590               1              2            1   \n",
      "612          0.743590               1              2            1   \n",
      "613          0.743590               0              1            0   \n",
      "\n",
      "     TotalIncome  Financial_Advice  IncomeComb  \n",
      "0       0.055394               1.0           1  \n",
      "1       0.058435               0.0           1  \n",
      "2       0.019583               1.0           0  \n",
      "3       0.043980               1.0           1  \n",
      "4       0.057292               1.0           1  \n",
      "..           ...               ...         ...  \n",
      "609     0.018326               0.0           1  \n",
      "610     0.033485               0.0           1  \n",
      "611     0.086352               1.0           1  \n",
      "612     0.077189               1.0           1  \n",
      "613     0.039481               1.0           0  \n",
      "\n",
      "[614 rows x 13 columns]>\n"
     ]
    }
   ],
   "source": [
    "discretised_data['Financial_Advice']=0\n",
    "discretised_data['IncomeComb']=0\n",
    "for i in range(discretised_data.shape[0]):\n",
    "    if discretised_data.Education[i]==0:\n",
    "        if discretised_data.Self_Employed[i]==0:\n",
    "            discretised_data.IncomeComb[i]=1\n",
    "        else:\n",
    "            discretised_data.IncomeComb[i]=0\n",
    "    else:\n",
    "            discretised_data.IncomeComb[i]=1\n",
    "            \n",
    "def Financial_Advice_func(W):\n",
    "    for i in range(W.shape[0]):\n",
    "        if W['IncomeComb'][i]==1:            \n",
    "            W['Financial_Advice'][i]=(500 * W['Credit_History'][i] - 1000 * W['LoanAmount'][i] + 800*W['Property_Area'][i]\n",
    "                   -700*W['Loan_Amount_Term'][i] +500*W['TotalIncome'][i] -500*W['Dependents'][i]) \n",
    "        else:\n",
    "            W['Financial_Advice'][i]=(500 * W['Credit_History'][i] - 1000 * W['LoanAmount'][i] + 800*W['Property_Area'][i]\n",
    "                   -700*W['Loan_Amount_Term'][i] - 500*W['TotalIncome'][i] -500*W['Dependents'][i]) \n",
    "\n",
    "Financial_Advice_func(discretised_data)\n",
    "for i in range(discretised_data.shape[0]):\n",
    "    if (discretised_data['Financial_Advice'][i]> discretised_data['Financial_Advice'].mean()):\n",
    "        discretised_data['Financial_Advice'][i] = 1\n",
    "    else:\n",
    "        discretised_data['Financial_Advice'][i] = 0\n",
    "print(discretised_data.head)"
   ]
  },
  {
   "cell_type": "markdown",
   "id": "e66f0257",
   "metadata": {},
   "source": [
    "# Causal Estimation"
   ]
  },
  {
   "cell_type": "markdown",
   "id": "b1227385",
   "metadata": {},
   "source": [
    "Now that we have preprocessed the data, we can start to build models using the DoWhy library which we will install below."
   ]
  },
  {
   "cell_type": "code",
   "execution_count": 323,
   "id": "c8dc2139",
   "metadata": {},
   "outputs": [
    {
     "name": "stdout",
     "output_type": "stream",
     "text": [
      "Requirement already satisfied: dowhy in c:\\users\\ishan\\anaconda3\\lib\\site-packages (0.7.1)\n",
      "Requirement already satisfied: pandas>=0.24 in c:\\users\\ishan\\anaconda3\\lib\\site-packages (from dowhy) (1.4.2)\n",
      "Requirement already satisfied: scikit-learn in c:\\users\\ishan\\anaconda3\\lib\\site-packages (from dowhy) (1.0.2)\n",
      "Requirement already satisfied: scipy in c:\\users\\ishan\\anaconda3\\lib\\site-packages (from dowhy) (1.7.3)\n",
      "Requirement already satisfied: networkx>=2.0 in c:\\users\\ishan\\anaconda3\\lib\\site-packages (from dowhy) (2.5.1)\n",
      "Requirement already satisfied: sympy>=1.4 in c:\\users\\ishan\\anaconda3\\lib\\site-packages (from dowhy) (1.10.1)\n",
      "Requirement already satisfied: pydot>=1.4 in c:\\users\\ishan\\anaconda3\\lib\\site-packages (from dowhy) (1.4.2)\n",
      "Requirement already satisfied: numpy>=1.15 in c:\\users\\ishan\\anaconda3\\lib\\site-packages (from dowhy) (1.21.5)\n",
      "Requirement already satisfied: statsmodels in c:\\users\\ishan\\anaconda3\\lib\\site-packages (from dowhy) (0.13.2)\n",
      "Requirement already satisfied: decorator<5,>=4.3 in c:\\users\\ishan\\anaconda3\\lib\\site-packages (from networkx>=2.0->dowhy) (4.4.2)\n",
      "Requirement already satisfied: pytz>=2020.1 in c:\\users\\ishan\\anaconda3\\lib\\site-packages (from pandas>=0.24->dowhy) (2021.3)\n",
      "Requirement already satisfied: python-dateutil>=2.8.1 in c:\\users\\ishan\\anaconda3\\lib\\site-packages (from pandas>=0.24->dowhy) (2.8.2)\n",
      "Requirement already satisfied: pyparsing>=2.1.4 in c:\\users\\ishan\\anaconda3\\lib\\site-packages (from pydot>=1.4->dowhy) (3.0.4)\n",
      "Requirement already satisfied: six>=1.5 in c:\\users\\ishan\\anaconda3\\lib\\site-packages (from python-dateutil>=2.8.1->pandas>=0.24->dowhy) (1.16.0)\n",
      "Requirement already satisfied: mpmath>=0.19 in c:\\users\\ishan\\anaconda3\\lib\\site-packages (from sympy>=1.4->dowhy) (1.2.1)\n",
      "Requirement already satisfied: threadpoolctl>=2.0.0 in c:\\users\\ishan\\anaconda3\\lib\\site-packages (from scikit-learn->dowhy) (2.2.0)\n",
      "Note: you may need to restart the kernel to use updated packages.\n",
      "Requirement already satisfied: joblib>=0.11 in c:\\users\\ishan\\anaconda3\\lib\\site-packages (from scikit-learn->dowhy) (1.1.0)\n",
      "Requirement already satisfied: patsy>=0.5.2 in c:\\users\\ishan\\anaconda3\\lib\\site-packages (from statsmodels->dowhy) (0.5.2)\n",
      "Requirement already satisfied: packaging>=21.3 in c:\\users\\ishan\\anaconda3\\lib\\site-packages (from statsmodels->dowhy) (21.3)\n"
     ]
    }
   ],
   "source": [
    "pip install dowhy"
   ]
  },
  {
   "cell_type": "markdown",
   "id": "684e1b2c",
   "metadata": {},
   "source": [
    "The DoWhy library is primarily based on finding out if there exists a causal effect between two variables: the treatment variable and the the outcome variable.\n",
    "\n",
    "In this Jupyter notebook, we can estimate one variable by variable basis i.e Map the effect of Financial_Advice on Loan Status (Outcome) or we can train a simple linear regressor to give an output of all the variables we want to check for influence.\n",
    "\n",
    "This library is primarily a library that can check for effects of various Financial_Advices along with their marginal costs to determine the effectiveness of Financial_Advice.\n",
    "\n",
    "A sample Financial_Advice is given here, which is Financial_Advice\n"
   ]
  },
  {
   "cell_type": "markdown",
   "id": "57417203",
   "metadata": {},
   "source": [
    "Now we will create a graph of all the factors influencing our outcome variable here: the Loan_Status"
   ]
  },
  {
   "cell_type": "code",
   "execution_count": 324,
   "id": "8a039003",
   "metadata": {},
   "outputs": [],
   "source": [
    "import graphviz"
   ]
  },
  {
   "cell_type": "markdown",
   "id": "88de3425",
   "metadata": {},
   "source": [
    "The edges added here, show the assumptions made by the graph before evaluating the model and estabilishing relationships"
   ]
  },
  {
   "cell_type": "code",
   "execution_count": 327,
   "id": "65cf793f",
   "metadata": {},
   "outputs": [
    {
     "name": "stdout",
     "output_type": "stream",
     "text": [
      "digraph {\n",
      "\tLoanAmount [label=LoanAmount]\n",
      "\tSelf_Employed [label=Self_Employed]\n",
      "\tEducation [label=Education]\n",
      "\tLoan_Status [label=Loan_Status]\n",
      "\tDependents [label=Dependents]\n",
      "\tLoan_Amount_Term [label=Loan_Amount_Term]\n",
      "\tProperty_Area [label=Property_Area]\n",
      "\tCredit_History [label=Credit_History]\n",
      "\tTotalIncome [label=TotalIncome]\n",
      "\tFinancial_Advice [label=Financial_Advice]\n",
      "\tIncomeComb -> TotalIncome\n",
      "\tDependents -> Financial_Advice\n",
      "\tCredit_History -> Financial_Advice\n",
      "\tLoanAmount -> Financial_Advice\n",
      "\tTotalIncome -> Financial_Advice\n",
      "\tEducation -> IncomeComb\n",
      "\tProperty_Area -> Financial_Advice\n",
      "\tSelf_Employed -> IncomeComb\n",
      "\tLoan_Amount_Term -> Financial_Advice\n",
      "\tFinancial_Advice -> Loan_Status\n",
      "}\n",
      "\n"
     ]
    },
    {
     "data": {
      "image/png": "[encoded data removed]",
      "text/plain": [
       "<IPython.core.display.Image object>"
      ]
     },
     "metadata": {},
     "output_type": "display_data"
    }
   ],
   "source": [
    "from IPython.display import Image, display\n",
    "\n",
    "dot = graphviz.Digraph() \n",
    "\n",
    "dot.node('LoanAmount', 'LoanAmount')  \n",
    "dot.node('Self_Employed', 'Self_Employed')\n",
    "dot.node('Education', 'Education')\n",
    "dot.node('Loan_Status', 'Loan_Status')\n",
    "dot.node('Dependents','Dependents')\n",
    " \n",
    "dot.node('Loan_Amount_Term','Loan_Amount_Term')\n",
    "dot.node('Property_Area', 'Property_Area')\n",
    "dot.node('Credit_History', 'Credit_History')\n",
    "dot.node('TotalIncome', 'TotalIncome')\n",
    "dot.node('Financial_Advice','Financial_Advice')\n",
    "\n",
    "dot.edge('IncomeComb','TotalIncome')\n",
    "dot.edge('Dependents','Financial_Advice')\n",
    "dot.edge('Credit_History','Financial_Advice')\n",
    "dot.edge('LoanAmount','Financial_Advice')\n",
    "dot.edge('TotalIncome','Financial_Advice')\n",
    "dot.edge('Education','IncomeComb')\n",
    "dot.edge('Property_Area','Financial_Advice')\n",
    "dot.edge('Self_Employed','IncomeComb')\n",
    "dot.edge('Loan_Amount_Term','Financial_Advice')\n",
    "dot.edge('Financial_Advice','Loan_Status')\n",
    "\n",
    "print(dot.source)\n",
    "\n",
    "dot.format = 'png'\n",
    "dot.render(directory='doctest-output', view = True).replace('\\\\', '/')\n",
    "display(Image(filename=\"Digraph.gv.png\"))"
   ]
  },
  {
   "cell_type": "markdown",
   "id": "c4263d55",
   "metadata": {},
   "source": [
    "We can see a basic digraph for the assumptions made in the Loan_Status feature.\n",
    "\n",
    "We now divide the features into their relevant categories."
   ]
  },
  {
   "cell_type": "code",
   "execution_count": 328,
   "id": "74f81c7c",
   "metadata": {
    "scrolled": true
   },
   "outputs": [],
   "source": [
    "# Define estimator inputs\n",
    "discretised_data2 = discretised_data[['TotalIncome','Credit_History','Property_Area','Loan_Amount_Term','Dependents','Education','Self_Employed','LoanAmount']]\n",
    "test_data = discretised_data.iloc[:1000]\n",
    "T = discretised_data[\"Financial_Advice\"]  # multiple interventions, or Financial_Advices\n",
    "Y = discretised_data[\"Loan_Status\"]  # amount of product purchased, or outcome\n",
    "\n",
    "X= discretised_data2\n",
    "Z = discretised_data['IncomeComb'] # nudge, or instrument\n",
    "\n"
   ]
  },
  {
   "cell_type": "markdown",
   "id": "20f9f493",
   "metadata": {},
   "source": [
    "Now using EconML which is integrated with DoWhy we define the parameters for an XGBOOST classifier."
   ]
  },
  {
   "cell_type": "code",
   "execution_count": 329,
   "id": "f8c887c3",
   "metadata": {
    "scrolled": true
   },
   "outputs": [],
   "source": [
    "# Define nuissance estimators\n",
    "lgb_T_XZ_params = {\n",
    "    'objective' : 'binary',\n",
    "    'metric' : 'auc',\n",
    "    'learning_rate': 0.1,\n",
    "    'num_leaves' : 30,\n",
    "    'max_depth' : 5\n",
    "}\n",
    "\n",
    "lgb_Y_X_params = {\n",
    "    'metric' : 'rmse',\n",
    "    'learning_rate': 0.1,\n",
    "    'num_leaves' : 30,\n",
    "    'max_depth' : 5\n",
    "}\n",
    "model_T_XZ = lgb.LGBMClassifier(**lgb_T_XZ_params)\n",
    "model_Y_X = lgb.LGBMRegressor(**lgb_Y_X_params)\n",
    "flexible_model_effect = lgb.LGBMRegressor(**lgb_Y_X_params)"
   ]
  },
  {
   "cell_type": "markdown",
   "id": "7a946f55",
   "metadata": {},
   "source": [
    "Using EconML's Linear DRM estiamtor, we can check for the causal relationship between the treatment and the outcome."
   ]
  },
  {
   "cell_type": "code",
   "execution_count": 332,
   "id": "143a01c8",
   "metadata": {
    "scrolled": true
   },
   "outputs": [],
   "source": [
    "est = LinearIntentToTreatDRIV(model_t_xwz=model_T_XZ, model_y_xw=model_Y_X,\n",
    "                            flexible_model_effect=flexible_model_effect,\n",
    "                            featurizer=PolynomialFeatures(degree=1, include_bias=False))\n",
    "\n",
    "# fit through dowhy\n",
    "test_data = X.iloc[:1000]\n",
    "est_dw=est.dowhy.fit(Y, T,Z=Z, X=X, outcome_names=[\"Loan_Status\"], treatment_names=[\"Financial_Advice\"], \n",
    "                     feature_names=list(discretised_data2.columns.values), target_units=test_data,\n",
    "                     inference=\"statsmodels\")"
   ]
  },
  {
   "cell_type": "markdown",
   "id": "3e143e2d",
   "metadata": {},
   "source": [
    "Here we can see 2 causal relationships present between the treatment and outcome"
   ]
  },
  {
   "cell_type": "code",
   "execution_count": 233,
   "id": "67d3e0b4",
   "metadata": {},
   "outputs": [
    {
     "name": "stdout",
     "output_type": "stream",
     "text": [
      "Estimand type: nonparametric-ate\n",
      "\n",
      "### Estimand : 1\n",
      "Estimand name: backdoor\n",
      "Estimand expression:\n",
      "     d                                                                        \n",
      "────────────(E[Loan_Status|LoanAmount,Property_Area,Dependents,TotalIncome,Sel\n",
      "d[Treatment]                                                                  \n",
      "\n",
      "                                                      \n",
      "f_Employed,Loan_Amount_Term,Education,Credit_History])\n",
      "                                                      \n",
      "Estimand assumption 1, Unconfoundedness: If U→{Treatment} and U→Loan_Status then P(Loan_Status|Treatment,LoanAmount,Property_Area,Dependents,TotalIncome,Self_Employed,Loan_Amount_Term,Education,Credit_History,U) = P(Loan_Status|Treatment,LoanAmount,Property_Area,Dependents,TotalIncome,Self_Employed,Loan_Amount_Term,Education,Credit_History)\n",
      "\n",
      "### Estimand : 2\n",
      "Estimand name: iv\n",
      "Estimand expression:\n",
      " ⎡                                                       -1⎤\n",
      " ⎢      d                    ⎛      d                   ⎞  ⎥\n",
      "E⎢─────────────(Loan_Status)⋅⎜─────────────([Treatment])⎟  ⎥\n",
      " ⎣d[IncomeComb]              ⎝d[IncomeComb]             ⎠  ⎦\n",
      "Estimand assumption 1, As-if-random: If U→→Loan_Status then ¬(U →→{IncomeComb})\n",
      "Estimand assumption 2, Exclusion: If we remove {IncomeComb}→{Treatment}, then ¬({IncomeComb}→Loan_Status)\n",
      "\n",
      "### Estimand : 3\n",
      "Estimand name: frontdoor\n",
      "No such variable(s) found!\n",
      "\n"
     ]
    }
   ],
   "source": [
    "identified_estimand = est_dw.identified_estimand_\n",
    "print(identified_estimand)"
   ]
  },
  {
   "cell_type": "markdown",
   "id": "f516dfdb",
   "metadata": {},
   "source": [
    "# Evaluating the Estimand"
   ]
  },
  {
   "cell_type": "markdown",
   "id": "c1c0f8b2",
   "metadata": {},
   "source": [
    "We will now see the effect of the treatment on each of the data rows given whether the treatment caused a postive relation to having a loan status of 1 or a negative relation to the loan status of 1.\n",
    "\n",
    "The realized estimand also gies a relationship between the features, and the mean value of the estimate shows the effectiveness of the feature."
   ]
  },
  {
   "cell_type": "code",
   "execution_count": 333,
   "id": "25ed1bb9",
   "metadata": {},
   "outputs": [
    {
     "name": "stdout",
     "output_type": "stream",
     "text": [
      "*** Causal Estimate ***\n",
      "\n",
      "## Identified estimand\n",
      "Estimand type: nonparametric-ate\n",
      "\n",
      "### Estimand : 1\n",
      "Estimand name: backdoor\n",
      "Estimand expression:\n",
      "         d                                                                    \n",
      "───────────────────(E[Loan_Status|LoanAmount,Property_Area,Dependents,TotalInc\n",
      "d[Financial_Advice]                                                           \n",
      "\n",
      "                                                             \n",
      "ome,Self_Employed,Loan_Amount_Term,Education,Credit_History])\n",
      "                                                             \n",
      "Estimand assumption 1, Unconfoundedness: If U→{Financial_Advice} and U→Loan_Status then P(Loan_Status|Financial_Advice,LoanAmount,Property_Area,Dependents,TotalIncome,Self_Employed,Loan_Amount_Term,Education,Credit_History,U) = P(Loan_Status|Financial_Advice,LoanAmount,Property_Area,Dependents,TotalIncome,Self_Employed,Loan_Amount_Term,Education,Credit_History)\n",
      "\n",
      "## Realized estimand\n",
      "b: Loan_Status~Financial_Advice+LoanAmount+Property_Area+Dependents+TotalIncome+Self_Employed+Loan_Amount_Term+Education+Credit_History | TotalIncome,Credit_History,Property_Area,Loan_Amount_Term,Dependents,Education,Self_Employed,LoanAmount\n",
      "Target units: Data subset provided as a data frame\n",
      "\n",
      "## Estimate\n",
      "Mean value: -0.2926072641404817\n",
      "Effect estimates: [ 5.63432377e+00 -1.95818655e+01  9.16783831e+00  3.83752493e+00\n",
      "  5.32549688e+00  2.10690030e+01  3.40255767e+00 -4.57793421e-01\n",
      "  1.39115313e+01 -6.24654191e+00  1.07388330e+01  1.21175056e+01\n",
      "  1.21137611e+01 -2.29913831e+01  8.51643264e+01  5.24167544e+00\n",
      "  4.52479510e+01  4.09408380e-01 -2.35095684e+01  4.18843354e+00\n",
      " -1.92640097e+00  1.30740690e+01 -1.36412183e+01 -2.09903046e+01\n",
      " -4.97141037e+00 -3.22576242e+00 -8.89857014e+00  1.04448784e+01\n",
      "  2.24016844e+00 -2.21107268e+00  1.05727954e+01  4.10794249e+00\n",
      " -1.44217398e+01 -9.29510854e+00 -9.60439871e+00  6.46936114e+00\n",
      "  1.60290231e+00 -8.02432932e+00  4.13551164e+00 -1.08006163e+01\n",
      "  4.11762688e+00  3.07001998e+00  4.57454363e+00 -9.07812533e+00\n",
      "  8.27556264e+00  4.55572321e+00  5.08632020e+00  5.54948789e+00\n",
      "  8.13075375e-01 -8.66099682e+00 -1.01948656e+01 -7.89240230e+00\n",
      " -8.85911551e+00  1.30046231e+01  1.36204351e+01 -2.08298030e+00\n",
      " -9.24381637e+00 -2.26014748e+01  8.15042719e+00  1.13329469e+01\n",
      "  4.28783896e+00  1.60296470e+01  3.57245333e+01 -2.17725569e+01\n",
      " -1.22489245e+01 -6.16027733e+00  5.70543990e+01  1.34091707e+01\n",
      "  1.13693248e+02 -1.14911341e+01  6.46333481e+00  2.08533200e+00\n",
      "  9.20345147e+00 -3.84487558e+00  8.80936311e+00 -3.24880874e+01\n",
      "  5.39630354e+00  1.40337606e+01  1.85036539e+01  6.09079707e+00\n",
      " -8.68794093e+00  2.49118977e+00  1.51294116e+01 -4.72151012e+00\n",
      "  4.41517674e+01 -8.23025534e+00 -4.00878974e+00 -9.40692478e+00\n",
      "  6.77420156e+00 -9.35891123e+00 -8.97076111e+00  5.40970874e+01\n",
      "  9.33427982e+00 -8.38934696e+00  6.24493159e+01  5.11734311e+00\n",
      " -8.12714757e+00 -1.07424845e+01  4.69310338e+01 -8.66157010e+00\n",
      "  6.69787915e+01 -9.68522966e+00  1.31174484e+00 -9.64669325e+00\n",
      "  6.90830665e+00  8.28431755e+00  1.23980116e+01 -2.54057374e+01\n",
      "  1.12816792e+01 -3.71208390e+01  5.49649506e+00 -8.30769785e+00\n",
      " -2.78617517e+01 -3.10368887e-01 -9.06387005e+00  3.49271823e+01\n",
      " -7.78783929e+00  7.92071681e+00 -2.21253964e+01  7.79203821e+00\n",
      " -2.22631482e+01 -1.16525907e+01 -1.52268710e+01 -2.23994370e+00\n",
      " -2.17625535e+01 -2.33103659e+01 -1.21250373e+01 -2.20929053e+01\n",
      "  6.36353727e+01 -2.23544875e+01 -1.39438212e+01  3.67795643e+00\n",
      " -9.76859286e+00  6.90398306e+01 -9.64361613e+00  5.18435767e+00\n",
      " -2.41784924e+01  1.51720735e+01 -1.30096964e+01 -1.68842190e+01\n",
      " -1.41817661e+01  6.77179532e+00  5.43980192e+01 -8.72125630e+00\n",
      "  6.80958596e+01 -1.07912573e+01  4.66250935e+00  5.99221982e+00\n",
      " -2.22373372e+01 -9.12728352e+00 -2.72943584e+01 -1.70157384e+01\n",
      "  7.85620711e+00 -1.56941513e+01  3.06128658e+00  5.56795717e+01\n",
      " -1.82001769e+01  8.88049315e+00 -2.29467901e+01 -6.22246947e+00\n",
      " -9.90792702e+00  9.82908241e+00 -8.55166879e+00 -1.44677671e+01\n",
      "  5.75816676e+01 -2.13703957e+01 -2.30136355e+01 -2.29652328e+01\n",
      " -5.12804275e+01 -8.36574822e-02 -2.43712163e+01  3.29764099e+01\n",
      "  4.27318657e+01 -9.67477643e+00 -6.27110705e+00 -2.33337323e+01\n",
      " -1.57585766e+01  7.31399408e+00 -4.82500758e+00 -3.77573565e+01\n",
      "  2.71911622e+00 -2.62133642e+01  4.61565843e+01 -1.55106819e+01\n",
      " -8.69028965e+00 -2.52058356e+01  6.63253670e-01 -2.52257906e+01\n",
      " -1.61522902e+01  3.43620850e+01 -2.70446327e+01 -1.10012116e+01\n",
      "  4.89652263e+00 -1.01506612e+01 -2.24636099e+01 -3.66343705e+00\n",
      " -2.40492764e+01  4.20822167e+00 -9.92683319e+00  5.44222684e+00\n",
      " -7.85583042e+00 -3.38482299e+00  7.31105561e+01  8.26165428e+00\n",
      " -2.18412527e+00 -9.82605742e+00  4.31488852e+00 -2.76516239e+01\n",
      "  3.86513680e+00 -7.78515120e+00 -7.81289867e+00 -1.22932336e+00\n",
      "  1.73558163e+01 -7.98116121e+00  5.05159225e+00 -8.84057843e-02\n",
      " -2.05978284e+01 -8.77349946e+00 -7.33807990e+00 -2.38142856e+00\n",
      "  4.58018218e-01 -2.31819148e+00 -8.37674058e+00 -8.65298051e+00\n",
      " -9.31277665e+00 -1.98620949e+01  1.00006836e+01  3.62838628e-01\n",
      " -4.51334554e+01 -1.50592907e+01 -5.76474600e+00  3.13978302e+01\n",
      " -2.45490900e+01 -4.14347045e+00 -4.48262008e+00 -1.82052770e+01\n",
      "  1.02088711e+01  1.12410010e+01 -1.89846910e+01 -5.41601217e+00\n",
      " -1.89327646e+01  6.53627320e+01  9.91693428e+01 -1.23204409e+01\n",
      " -1.15935225e+01  6.41665832e+01  9.27064255e+00  6.40659923e+01\n",
      " -4.29695119e+01  4.49098103e+00 -1.06851945e+01  1.38298630e+01\n",
      " -1.93399384e+01  5.42669102e+01  3.47611297e+00 -5.42819956e+00\n",
      " -2.84917393e+01  1.45909680e+01 -2.17861360e+01  1.02214868e+00\n",
      "  1.43890693e+01 -7.96548099e+00  9.92642826e+01 -2.41309141e+01\n",
      " -3.41194962e+00 -2.30307553e+01 -1.10818750e+00  1.32496515e+01\n",
      " -2.14112557e+01  7.67214382e+00  2.23866579e+00  2.26605856e+00\n",
      " -2.24904965e+01 -7.61790522e+00 -2.38804715e+00 -5.33316665e+00\n",
      " -6.58974187e+00  3.67267996e+00 -1.11671479e+00 -2.34479054e+01\n",
      "  9.87641296e+00 -9.13450607e+00  6.82546249e+01  3.10412912e+00\n",
      " -3.04942566e+01 -2.48725664e+01  1.47997600e+01 -2.33019719e+01\n",
      " -8.67557421e+00 -2.26224541e+01 -2.23935088e+01 -4.71750484e+00\n",
      "  1.29508749e+01 -3.57554007e+01 -7.18694899e+00  1.50260925e+01\n",
      " -3.06201757e+00  9.41679082e+00 -6.09256666e+01  8.35027531e+00\n",
      " -7.62709874e-01 -1.05703288e+01 -2.24126571e+01  8.48029459e+00\n",
      " -2.29109994e+01  6.56594948e+00 -2.25250082e+01  1.15702358e+00\n",
      " -1.63758437e+01 -1.56832187e+01 -9.29643149e+00 -1.07124694e+01\n",
      " -2.41930257e+01  7.73364093e+01 -2.09103939e+01  6.38537314e+01\n",
      " -1.03858492e+00  4.12241251e+00 -4.87560760e+00 -1.53244337e+01\n",
      " -8.92104306e+00  2.27851018e+00 -1.59165853e+01 -2.30504328e+01\n",
      " -1.01593864e+01 -1.17439969e+01 -2.60415502e+01 -2.64038134e+00\n",
      "  3.60141506e+00  4.18631682e+00  7.83070051e+00 -8.72397698e+00\n",
      "  4.16820772e+00  4.49170420e+01  6.96367205e+01 -8.49953577e+00\n",
      " -1.81658224e+01 -9.24215533e+00  1.38736547e+01 -1.05260113e+01\n",
      " -1.06784690e+01 -2.45375663e+01  8.55357406e+00 -2.50243008e-01\n",
      " -1.54522060e+01 -7.26505298e+00 -2.73447711e+01  1.11188224e+01\n",
      " -6.44836822e+00 -2.22717052e+01 -6.72235529e+00 -1.94775551e+01\n",
      " -1.30076644e+01 -2.21044682e+01 -7.38883330e+00  6.23404735e+01\n",
      " -1.74380193e+01  7.02615047e+00 -3.83292819e+01  3.33300025e+00\n",
      " -6.82022350e+00  1.04442704e+00  4.26777803e+00  2.23340474e+01\n",
      " -1.77476431e+01 -2.42459749e+01 -4.64616104e+01 -2.64058623e+01\n",
      " -3.79731015e+00 -1.52708667e+01 -1.23185399e+01 -3.95941127e-01\n",
      "  1.25981397e+01  6.14576378e+01  5.02047988e+00  6.14391198e+01\n",
      " -1.65368828e+01 -8.15460744e+00 -3.38580266e+01  1.24087831e+01\n",
      " -9.08171455e+00 -4.49739256e+00  5.94952732e+00  9.43820549e+00\n",
      "  1.16178594e+01  6.58982959e+01 -9.07083621e+00  6.76947152e-01\n",
      "  5.81011891e+00 -2.29742749e+01 -1.17115210e+01 -8.15407198e+00\n",
      "  5.17329994e+00  5.43671281e+01  1.21952568e+01 -4.38381025e-01\n",
      "  3.84253130e-01  4.24739499e+00 -2.48853631e+01 -1.23098953e+01\n",
      "  6.23093740e+01 -6.20942025e+00 -1.93570458e+01 -1.12586048e+01\n",
      " -1.58857270e+01 -8.90996094e+00  3.83675033e+00 -2.48152256e+01\n",
      "  9.50753712e+00 -4.78259239e+01 -3.03729846e+00  5.97408436e+00\n",
      " -2.42349896e+01 -2.41333975e+01 -1.15467350e+01  3.62082027e+00\n",
      "  1.16016240e+01  1.32620806e+01 -2.25786625e+01 -8.01739054e+00\n",
      " -2.26223985e+01 -1.87567281e-01  4.98346792e+00  2.42955666e+00\n",
      " -1.54259742e+01 -2.39596513e+01 -2.19154412e+01 -1.72676508e+00\n",
      " -2.31411406e+01  5.94169324e+01 -8.11073593e-01 -2.79587504e+01\n",
      " -1.46051919e+00 -7.86589917e+00  4.86655160e+00  2.72447325e+01\n",
      " -1.11874314e+01  7.02568331e+00  6.50075575e+00 -1.92508903e+01\n",
      " -8.22911453e+00 -2.30388963e+01  8.73976196e-01 -2.21497526e+01\n",
      " -7.58612900e+00 -1.34144254e+01 -1.71327421e+01 -2.55689143e+01\n",
      " -1.80797476e+01  2.04173835e+00 -1.94975245e+01  2.83387134e+01\n",
      " -2.56744485e+01  2.91198353e+01 -6.30576784e+00 -2.11571664e+00\n",
      "  5.31007587e+00  6.50327453e+00 -1.46848385e+01 -9.13626809e+00\n",
      " -2.63479043e+00  7.14689117e+01 -2.16514979e+01 -6.15896881e+00\n",
      " -1.29977611e+01 -2.26339466e+01  6.59969837e+01 -1.58475854e+01\n",
      " -2.82803449e+00  3.60141506e+00  1.40310805e+00  3.29183519e+01\n",
      "  1.19140455e+00  1.05681460e+01 -1.68314058e+01 -1.61081180e+01\n",
      "  1.98627885e+01 -4.70066117e+00 -9.17701393e+00  1.35575653e+01\n",
      " -2.23383710e+01 -1.25434643e+01 -8.74925111e+00 -7.44242817e+00\n",
      "  1.64551866e+00 -1.97178693e+01 -2.01590687e+01  1.70285683e+01\n",
      "  4.29161481e+00  4.55514993e+00 -1.14207239e+01  9.34108487e+00\n",
      " -2.38037046e+01 -7.28069731e+00 -2.69629591e+01  8.16059828e+01\n",
      " -2.42659611e+01  1.13153101e+02  7.52866156e-02 -2.59588293e+01\n",
      " -6.07262019e+01 -8.76489261e+00 -1.13001045e+00 -2.21739114e+01\n",
      "  8.79548338e+00 -1.22126871e+01  7.51531128e+00  4.79267915e+00\n",
      "  1.28624544e+01  7.01505028e-01 -2.48813272e+01 -1.64351836e+00\n",
      "  1.31980693e+01  4.37067505e+01 -1.74488417e+01 -1.19081096e+01\n",
      " -3.91953428e+01 -1.35511445e+01 -7.13428978e+00 -2.42664903e+01\n",
      " -5.48010539e+00 -1.02718282e+01 -8.80273461e+00 -1.03574185e+00\n",
      " -8.83326601e+00 -5.68600051e+00 -8.69020146e+00 -9.38864701e+00\n",
      " -7.06937797e+00 -1.07260383e+01 -1.97630979e+01  1.53775086e+01\n",
      " -1.89337262e+01 -5.65263833e+00  2.01821707e+00 -2.36373214e+01\n",
      "  1.07006351e+01 -1.52400073e+00 -2.55023167e+01  4.54906111e+01\n",
      "  5.09647856e+01 -1.18324326e+01 -5.64434783e+00  7.87070104e+00\n",
      " -1.01715050e+01 -2.12995526e+01  9.14094290e+01 -2.14889436e+01\n",
      " -1.32518751e+01 -2.32176347e+01 -1.38059819e+01 -1.93387841e+01\n",
      "  9.31141678e+00  2.86890111e+00  2.92546728e+01 -1.00929810e+01\n",
      "  3.90059382e+00  1.01291375e+01 -8.06786401e+00 -7.19703602e+00\n",
      " -2.84975774e+00  1.18922512e+01 -2.07756695e+01 -4.79797187e+00\n",
      "  1.22537705e+01 -2.38176704e+01  3.84955282e+00 -1.60722632e+01\n",
      "  1.84100001e+00  6.21203318e-01  1.12608873e+01  2.41808773e+00\n",
      "  1.21935350e+01 -3.95825501e+01  2.32121466e+00  9.96344301e+01\n",
      " -1.20435775e+01  4.05356535e+00 -1.93046305e+01  6.10268100e+00\n",
      "  9.33347056e-01 -1.32381865e+01 -1.14313012e+01 -2.00358622e+01\n",
      " -2.16561642e+01  6.87477001e+01  4.99472642e+00 -1.06632997e+01\n",
      " -9.89608703e+00  6.36601968e-01  4.44430938e+01  4.44282059e+01\n",
      "  1.18937132e+01  3.36502470e+01  9.96876461e+00 -2.38823876e+01\n",
      " -1.01424722e+01 -1.27604907e+01 -1.78656101e+01  1.47725618e+01\n",
      "  6.16749086e+01 -2.30370542e+01  1.57544271e+01 -2.23981487e+01\n",
      "  6.41239117e+00  6.10819034e+01 -3.64501926e+00 -1.55908096e+01\n",
      " -2.35119530e+01 -2.37867588e+01  4.19037120e+01  1.23055607e+01\n",
      "  1.35654989e+01 -6.47257572e+00]\n",
      "\n"
     ]
    }
   ],
   "source": [
    "lineardml_estimate = est_dw.estimate_\n",
    "print(lineardml_estimate)"
   ]
  },
  {
   "cell_type": "markdown",
   "id": "8459c50a",
   "metadata": {},
   "source": [
    "Using EconML's Singletreecateinterpreter, we can see the effect of the treatment on Loan_Amount_Term and Property_Area.\n",
    "\n",
    "The redder a box the more negative an effect, while the greener a box the more positive effect a treatment had towards achieving a loan status of 1."
   ]
  },
  {
   "cell_type": "code",
   "execution_count": 334,
   "id": "3e04277d",
   "metadata": {},
   "outputs": [
    {
     "data": {
      "image/png": "[encoded data removed]",
      "text/plain": [
       "<Figure size 1800x360 with 1 Axes>"
      ]
     },
     "metadata": {
      "needs_background": "light"
     },
     "output_type": "display_data"
    }
   ],
   "source": [
    "intrp = SingleTreeCateInterpreter(include_model_uncertainty=True, max_depth=2, min_samples_leaf=10)\n",
    "intrp.interpret(est_dw, test_data)\n",
    "plt.figure(figsize=(25, 5))\n",
    "intrp.plot(feature_names=X.columns, fontsize=12)"
   ]
  },
  {
   "cell_type": "markdown",
   "id": "06a04061",
   "metadata": {},
   "source": [
    "Then using the policy interpreter, we can check for the improvements made over the treatment policy and the recommended treatment: given treatment of 0 or No Financial Advice."
   ]
  },
  {
   "cell_type": "code",
   "execution_count": 336,
   "id": "083bf4f6",
   "metadata": {},
   "outputs": [
    {
     "data": {
      "image/png": "[encoded data removed]",
      "text/plain": [
       "<Figure size 1800x360 with 1 Axes>"
      ]
     },
     "metadata": {
      "needs_background": "light"
     },
     "output_type": "display_data"
    }
   ],
   "source": [
    "intrp = SingleTreePolicyInterpreter(risk_level=0.05, max_depth=2, min_samples_leaf=10)\n",
    "intrp.interpret(est_dw, test_data, sample_treatment_costs=0.2)\n",
    "plt.figure(figsize=(25, 5))\n",
    "intrp.plot(feature_names=X.columns, fontsize=12)"
   ]
  },
  {
   "cell_type": "markdown",
   "id": "cda2f4d1",
   "metadata": {},
   "source": [
    "We can also get a summary of the causal effect model"
   ]
  },
  {
   "cell_type": "code",
   "execution_count": 337,
   "id": "99ae1300",
   "metadata": {
    "scrolled": true
   },
   "outputs": [
    {
     "data": {
      "text/html": [
       "<table class=\"simpletable\">\n",
       "<caption>Coefficient Results</caption>\n",
       "<tr>\n",
       "          <td></td>         <th>point_estimate</th> <th>stderr</th>   <th>zstat</th> <th>pvalue</th> <th>ci_lower</th> <th>ci_upper</th>\n",
       "</tr>\n",
       "<tr>\n",
       "  <th>TotalIncome</th>          <td>-44.084</td>    <td>114.334</td> <td>-0.386</td>   <td>0.7</td>  <td>-268.174</td>  <td>180.007</td>\n",
       "</tr>\n",
       "<tr>\n",
       "  <th>Credit_History</th>        <td>3.592</td>     <td>44.018</td>   <td>0.082</td>  <td>0.935</td>  <td>-82.683</td>  <td>89.866</td> \n",
       "</tr>\n",
       "<tr>\n",
       "  <th>Property_Area</th>        <td>13.959</td>     <td>13.436</td>   <td>1.039</td>  <td>0.299</td>  <td>-12.375</td>  <td>40.293</td> \n",
       "</tr>\n",
       "<tr>\n",
       "  <th>Loan_Amount_Term</th>    <td>-147.792</td>    <td>59.075</td>  <td>-2.502</td>  <td>0.012</td> <td>-263.578</td>  <td>-32.007</td>\n",
       "</tr>\n",
       "<tr>\n",
       "  <th>Dependents</th>            <td>3.602</td>      <td>7.299</td>   <td>0.493</td>  <td>0.622</td>  <td>-10.705</td>  <td>17.908</td> \n",
       "</tr>\n",
       "<tr>\n",
       "  <th>Education</th>            <td>-1.201</td>     <td>13.303</td>   <td>-0.09</td>  <td>0.928</td>  <td>-27.275</td>  <td>24.873</td> \n",
       "</tr>\n",
       "<tr>\n",
       "  <th>Self_Employed</th>          <td>5.3</td>       <td>66.7</td>    <td>0.079</td>  <td>0.937</td> <td>-125.428</td>  <td>136.029</td>\n",
       "</tr>\n",
       "<tr>\n",
       "  <th>LoanAmount</th>           <td>28.747</td>     <td>129.309</td>  <td>0.222</td>  <td>0.824</td> <td>-224.694</td>  <td>282.188</td>\n",
       "</tr>\n",
       "</table>\n",
       "<table class=\"simpletable\">\n",
       "<caption>CATE Intercept Results</caption>\n",
       "<tr>\n",
       "         <td></td>        <th>point_estimate</th> <th>stderr</th> <th>zstat</th> <th>pvalue</th> <th>ci_lower</th> <th>ci_upper</th>\n",
       "</tr>\n",
       "<tr>\n",
       "  <th>cate_intercept</th>     <td>80.747</td>     <td>59.282</td> <td>1.362</td>  <td>0.173</td>  <td>-35.443</td>  <td>196.937</td>\n",
       "</tr>\n",
       "</table><br/><br/><sub>A linear parametric conditional average treatment effect (CATE) model was fitted:<br/>$Y = \\Theta(X)\\cdot T + g(X, W) + \\epsilon$<br/>where for every outcome $i$ and treatment $j$ the CATE $\\Theta_{ij}(X)$ has the form:<br/>$\\Theta_{ij}(X) = \\phi(X)' coef_{ij} + cate\\_intercept_{ij}$<br/>where $\\phi(X)$ is the output of the `featurizer` or $X$ if `featurizer`=None. Coefficient Results table portrays the $coef_{ij}$ parameter vector for each outcome $i$ and treatment $j$. Intercept Results table portrays the $cate\\_intercept_{ij}$ parameter.</sub>"
      ],
      "text/plain": [
       "<class 'econml.utilities.Summary'>\n",
       "\"\"\"\n",
       "                          Coefficient Results                          \n",
       "=======================================================================\n",
       "                 point_estimate  stderr zstat  pvalue ci_lower ci_upper\n",
       "-----------------------------------------------------------------------\n",
       "TotalIncome             -44.084 114.334 -0.386    0.7 -268.174  180.007\n",
       "Credit_History            3.592  44.018  0.082  0.935  -82.683   89.866\n",
       "Property_Area            13.959  13.436  1.039  0.299  -12.375   40.293\n",
       "Loan_Amount_Term       -147.792  59.075 -2.502  0.012 -263.578  -32.007\n",
       "Dependents                3.602   7.299  0.493  0.622  -10.705   17.908\n",
       "Education                -1.201  13.303  -0.09  0.928  -27.275   24.873\n",
       "Self_Employed               5.3    66.7  0.079  0.937 -125.428  136.029\n",
       "LoanAmount               28.747 129.309  0.222  0.824 -224.694  282.188\n",
       "                       CATE Intercept Results                      \n",
       "===================================================================\n",
       "               point_estimate stderr zstat pvalue ci_lower ci_upper\n",
       "-------------------------------------------------------------------\n",
       "cate_intercept         80.747 59.282 1.362  0.173  -35.443  196.937\n",
       "-------------------------------------------------------------------\n",
       "\n",
       "<sub>A linear parametric conditional average treatment effect (CATE) model was fitted:\n",
       "$Y = \\Theta(X)\\cdot T + g(X, W) + \\epsilon$\n",
       "where for every outcome $i$ and treatment $j$ the CATE $\\Theta_{ij}(X)$ has the form:\n",
       "$\\Theta_{ij}(X) = \\phi(X)' coef_{ij} + cate\\_intercept_{ij}$\n",
       "where $\\phi(X)$ is the output of the `featurizer` or $X$ if `featurizer`=None. Coefficient Results table portrays the $coef_{ij}$ parameter vector for each outcome $i$ and treatment $j$. Intercept Results table portrays the $cate\\_intercept_{ij}$ parameter.</sub>\n",
       "\"\"\""
      ]
     },
     "execution_count": 337,
     "metadata": {},
     "output_type": "execute_result"
    }
   ],
   "source": [
    "est_dw.summary(feature_names=X.columns)"
   ]
  },
  {
   "cell_type": "code",
   "execution_count": 270,
   "id": "18d317ab",
   "metadata": {},
   "outputs": [
    {
     "data": {
      "image/png": "[encoded data removed]",
      "text/plain": [
       "<Figure size 432x288 with 1 Axes>"
      ]
     },
     "metadata": {
      "needs_background": "light"
     },
     "output_type": "display_data"
    }
   ],
   "source": [
    "plt.scatter(test2['Financial_Advice'], est_dw.effect(test_data), label=\"Predicted vs True Financial_Advice effect\")\n",
    "plt.xlabel(\"True Financial_Advice effect\")\n",
    "plt.ylabel(\"Predicted Financial_Advice effect\")\n",
    "plt.legend()\n",
    "plt.show()"
   ]
  },
  {
   "cell_type": "markdown",
   "id": "4ca7055b",
   "metadata": {},
   "source": [
    "Lets use an example to see how the BN is performing"
   ]
  },
  {
   "cell_type": "code",
   "execution_count": 308,
   "id": "e399c1ee",
   "metadata": {},
   "outputs": [],
   "source": [
    "\n",
    "# Get roi for each customer and possible Financial_Advice\n",
    "potential_roi = est_dw.const_marginal_effect(X=X.values) - cost_fn(discretised_data)\n",
    "# Add a column of 0s for no Financial_Advice\n",
    "\n",
    "potential_roi = np.hstack([np.zeros(X.shape), potential_roi])\n",
    "\n",
    "Financial_Advice_names = [\"IncomeComb\",\"Financial_Advice\"]"
   ]
  },
  {
   "cell_type": "markdown",
   "id": "57efe491",
   "metadata": {},
   "source": [
    "We can also check for robustness of the causal effect. Check for p-value close to 1."
   ]
  },
  {
   "cell_type": "code",
   "execution_count": 338,
   "id": "3595d78c",
   "metadata": {},
   "outputs": [
    {
     "name": "stdout",
     "output_type": "stream",
     "text": [
      "Refute: Add a random common cause\n",
      "Estimated effect:-0.2926072641404817\n",
      "New effect:0.6189711192988806\n",
      "p value:0.4343158883905111\n",
      "\n"
     ]
    }
   ],
   "source": [
    "res_random = est_dw.refute_estimate(method_name=\"random_common_cause\", num_simulations=5)\n",
    "print(res_random)"
   ]
  },
  {
   "cell_type": "code",
   "execution_count": 340,
   "id": "52bfc597",
   "metadata": {},
   "outputs": [
    {
     "name": "stdout",
     "output_type": "stream",
     "text": [
      "Refute: Use a Placebo Treatment\n",
      "Estimated effect:-0.2926072641404817\n",
      "New effect:22.67861907179692\n",
      "p value:0.045738719648713226\n",
      "\n"
     ]
    }
   ],
   "source": [
    "res_placebo = est_dw.refute_estimate(method_name=\"placebo_treatment_refuter\", placebo_type=\"permute\", \n",
    "                                     num_simulations=2)\n",
    "print(res_placebo)"
   ]
  },
  {
   "cell_type": "markdown",
   "id": "f61c4269",
   "metadata": {},
   "source": [
    "Placebo treatment <0.05: determines that the treatment has a non effect on the dataset."
   ]
  }
 ],
 "metadata": {
  "kernelspec": {
   "display_name": "Python 3 (ipykernel)",
   "language": "python",
   "name": "python3"
  },
  "language_info": {
   "codemirror_mode": {
    "name": "ipython",
    "version": 3
   },
   "file_extension": ".py",
   "mimetype": "text/x-python",
   "name": "python",
   "nbconvert_exporter": "python",
   "pygments_lexer": "ipython3",
   "version": "3.9.12"
  }
 },
 "nbformat": 4,
 "nbformat_minor": 5
}
