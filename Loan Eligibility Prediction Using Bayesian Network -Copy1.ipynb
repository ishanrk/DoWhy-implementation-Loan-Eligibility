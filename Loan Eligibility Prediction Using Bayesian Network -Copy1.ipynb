{
 "cells": [
  {
   "cell_type": "markdown",
   "id": "a7ff6cc4",
   "metadata": {},
   "source": [
    "Author: "
   ]
  },
  {
   "cell_type": "code",
   "execution_count": 2,
   "id": "4241e888",
   "metadata": {},
   "outputs": [],
   "source": [
    "import warnings\n",
    "\n",
    "warnings.filterwarnings(\"ignore\")  # silence warnings"
   ]
  },
  {
   "cell_type": "code",
   "execution_count": null,
   "id": "94b8aae1",
   "metadata": {},
   "outputs": [],
   "source": [
    "\n"
   ]
  },
  {
   "cell_type": "markdown",
   "id": "3809aef0",
   "metadata": {},
   "source": [
    "Loan is the main profit source for a bank with the profit mainly generated from the interest paid on the loan. Inorder to get this process profitable, the bank needs to know if the loan applicant will be able to pay back the loan along with the interest. Inorder to make this decision, in this article, we discuss the Bayesian Network way of predicting the eligibility of the loan applicant.  In doing so we will discuss about how different variables are involved to understand the causal relationship which helps us to find the conditional probability for different states of the variables in the network. "
   ]
  },
  {
   "cell_type": "markdown",
   "id": "d458b8a7",
   "metadata": {},
   "source": [
    "The task is learn a Bayesian Network for finding the loan elligibility for the applicant who wants to buy a Property in one of the three different areas. \n",
    "\n"
   ]
  },
  {
   "cell_type": "markdown",
   "id": "54e35515",
   "metadata": {},
   "source": [
    "# Data Exploration and Preprocessing"
   ]
  },
  {
   "cell_type": "markdown",
   "id": "4a78ccb1",
   "metadata": {},
   "source": [
    "Before starting with Baysian Network learning, we need to explore the dataset and preprocess it for the task in hand. We are going to be using the loan eligibility dataset at https://github.com/mridulrb/Predict-loan-eligibility-using-IBM-Watson-Studio/tree/master/Dataset"
   ]
  },
  {
   "cell_type": "markdown",
   "id": "61c5634d",
   "metadata": {},
   "source": [
    "For our purposes, we are going to use pandas for loading the csv files in the provided dataset. We are going to load train set to form one dataframe called \"data\". In this case, we are not using test file and will make data for testing from samples in train file since test file does not have the ground truth. We do this for preprocessing all the data together. Later for inference using BN, we are going to split this data into test and train dataframes."
   ]
  },
  {
   "cell_type": "code",
   "execution_count": 3,
   "id": "3fc675d8",
   "metadata": {},
   "outputs": [],
   "source": [
    "import matplotlib.pyplot as plt\n",
    "import pandas as pd\n",
    "%matplotlib inline\n",
    "import numpy as np\n",
    "import seaborn as sns\n",
    "data=pd.read_csv(\"Loan_data.csv\")"
   ]
  },
  {
   "cell_type": "code",
   "execution_count": 4,
   "id": "bd391d33",
   "metadata": {},
   "outputs": [
    {
     "data": {
      "text/html": [
       "<div>\n",
       "<style scoped>\n",
       "    .dataframe tbody tr th:only-of-type {\n",
       "        vertical-align: middle;\n",
       "    }\n",
       "\n",
       "    .dataframe tbody tr th {\n",
       "        vertical-align: top;\n",
       "    }\n",
       "\n",
       "    .dataframe thead th {\n",
       "        text-align: right;\n",
       "    }\n",
       "</style>\n",
       "<table border=\"1\" class=\"dataframe\">\n",
       "  <thead>\n",
       "    <tr style=\"text-align: right;\">\n",
       "      <th></th>\n",
       "      <th>Loan_ID</th>\n",
       "      <th>Gender</th>\n",
       "      <th>Married</th>\n",
       "      <th>Dependents</th>\n",
       "      <th>Education</th>\n",
       "      <th>Self_Employed</th>\n",
       "      <th>ApplicantIncome</th>\n",
       "      <th>CoapplicantIncome</th>\n",
       "      <th>LoanAmount</th>\n",
       "      <th>Loan_Amount_Term</th>\n",
       "      <th>Credit_History</th>\n",
       "      <th>Property_Area</th>\n",
       "      <th>Loan_Status</th>\n",
       "    </tr>\n",
       "  </thead>\n",
       "  <tbody>\n",
       "    <tr>\n",
       "      <th>0</th>\n",
       "      <td>LP001002</td>\n",
       "      <td>Male</td>\n",
       "      <td>No</td>\n",
       "      <td>0</td>\n",
       "      <td>Graduate</td>\n",
       "      <td>No</td>\n",
       "      <td>5849</td>\n",
       "      <td>0.0</td>\n",
       "      <td>NaN</td>\n",
       "      <td>360.0</td>\n",
       "      <td>1.0</td>\n",
       "      <td>Urban</td>\n",
       "      <td>Y</td>\n",
       "    </tr>\n",
       "    <tr>\n",
       "      <th>1</th>\n",
       "      <td>LP001003</td>\n",
       "      <td>Male</td>\n",
       "      <td>Yes</td>\n",
       "      <td>1</td>\n",
       "      <td>Graduate</td>\n",
       "      <td>No</td>\n",
       "      <td>4583</td>\n",
       "      <td>1508.0</td>\n",
       "      <td>128.0</td>\n",
       "      <td>360.0</td>\n",
       "      <td>1.0</td>\n",
       "      <td>Rural</td>\n",
       "      <td>N</td>\n",
       "    </tr>\n",
       "    <tr>\n",
       "      <th>2</th>\n",
       "      <td>LP001005</td>\n",
       "      <td>Male</td>\n",
       "      <td>Yes</td>\n",
       "      <td>0</td>\n",
       "      <td>Graduate</td>\n",
       "      <td>Yes</td>\n",
       "      <td>3000</td>\n",
       "      <td>0.0</td>\n",
       "      <td>66.0</td>\n",
       "      <td>360.0</td>\n",
       "      <td>1.0</td>\n",
       "      <td>Urban</td>\n",
       "      <td>Y</td>\n",
       "    </tr>\n",
       "    <tr>\n",
       "      <th>3</th>\n",
       "      <td>LP001006</td>\n",
       "      <td>Male</td>\n",
       "      <td>Yes</td>\n",
       "      <td>0</td>\n",
       "      <td>Not Graduate</td>\n",
       "      <td>No</td>\n",
       "      <td>2583</td>\n",
       "      <td>2358.0</td>\n",
       "      <td>120.0</td>\n",
       "      <td>360.0</td>\n",
       "      <td>1.0</td>\n",
       "      <td>Urban</td>\n",
       "      <td>Y</td>\n",
       "    </tr>\n",
       "    <tr>\n",
       "      <th>4</th>\n",
       "      <td>LP001008</td>\n",
       "      <td>Male</td>\n",
       "      <td>No</td>\n",
       "      <td>0</td>\n",
       "      <td>Graduate</td>\n",
       "      <td>No</td>\n",
       "      <td>6000</td>\n",
       "      <td>0.0</td>\n",
       "      <td>141.0</td>\n",
       "      <td>360.0</td>\n",
       "      <td>1.0</td>\n",
       "      <td>Urban</td>\n",
       "      <td>Y</td>\n",
       "    </tr>\n",
       "  </tbody>\n",
       "</table>\n",
       "</div>"
      ],
      "text/plain": [
       "    Loan_ID Gender Married Dependents     Education Self_Employed  \\\n",
       "0  LP001002   Male      No          0      Graduate            No   \n",
       "1  LP001003   Male     Yes          1      Graduate            No   \n",
       "2  LP001005   Male     Yes          0      Graduate           Yes   \n",
       "3  LP001006   Male     Yes          0  Not Graduate            No   \n",
       "4  LP001008   Male      No          0      Graduate            No   \n",
       "\n",
       "   ApplicantIncome  CoapplicantIncome  LoanAmount  Loan_Amount_Term  \\\n",
       "0             5849                0.0         NaN             360.0   \n",
       "1             4583             1508.0       128.0             360.0   \n",
       "2             3000                0.0        66.0             360.0   \n",
       "3             2583             2358.0       120.0             360.0   \n",
       "4             6000                0.0       141.0             360.0   \n",
       "\n",
       "   Credit_History Property_Area Loan_Status  \n",
       "0             1.0         Urban           Y  \n",
       "1             1.0         Rural           N  \n",
       "2             1.0         Urban           Y  \n",
       "3             1.0         Urban           Y  \n",
       "4             1.0         Urban           Y  "
      ]
     },
     "execution_count": 4,
     "metadata": {},
     "output_type": "execute_result"
    }
   ],
   "source": [
    "data.head()"
   ]
  },
  {
   "cell_type": "markdown",
   "id": "8ed680b8",
   "metadata": {},
   "source": [
    "We can use the data.head() command to see the top few rows of the loaded dataframe. This gives us an idea about different variables involved. A quick look at \"LoanAmount\" shows that there are also missing values in the dataset labelled with Nan. This is normally the case and we first need to find out the missing values for each of the variables and then fill them up.\n",
    "\n",
    "For this purpose, we are going to apply isnull function using the code given in the cell below, which finds the missing values for each variable in the dataset"
   ]
  },
  {
   "cell_type": "code",
   "execution_count": 5,
   "id": "ec1bcaa4",
   "metadata": {
    "scrolled": false
   },
   "outputs": [
    {
     "data": {
      "text/plain": [
       "Loan_ID               0\n",
       "Gender               13\n",
       "Married               3\n",
       "Dependents           15\n",
       "Education             0\n",
       "Self_Employed        32\n",
       "ApplicantIncome       0\n",
       "CoapplicantIncome     0\n",
       "LoanAmount           22\n",
       "Loan_Amount_Term     14\n",
       "Credit_History       50\n",
       "Property_Area         0\n",
       "Loan_Status           0\n",
       "dtype: int64"
      ]
     },
     "execution_count": 5,
     "metadata": {},
     "output_type": "execute_result"
    }
   ],
   "source": [
    "data.apply(lambda x: sum(x.isnull()),axis=0)"
   ]
  },
  {
   "cell_type": "markdown",
   "id": "5e34a549",
   "metadata": {},
   "source": [
    "We can see that some of the variables have missing values. Depending upon the type of variable, we are going to use mode for categorical variables for filling missing values and mean for filling numerical variables."
   ]
  },
  {
   "cell_type": "code",
   "execution_count": 6,
   "id": "10b5d28d",
   "metadata": {},
   "outputs": [],
   "source": [
    "#categorical\n",
    "data['Gender'].fillna(data['Gender'].mode()[0], inplace=True)\n",
    "data['Married'].fillna(data['Married'].mode()[0], inplace=True)\n",
    "data['Dependents'].fillna(data['Dependents'].mode()[0], inplace=True)\n",
    "data['Loan_Amount_Term'].fillna(data['Loan_Amount_Term'].mode()[0], inplace=True)\n",
    "data['Credit_History'].fillna(data['Credit_History'].mode()[0], inplace=True)\n",
    "data['Self_Employed'].fillna(data['Self_Employed'].mode()[0], inplace=True)\n",
    "#numerical\n",
    "data['LoanAmount'].fillna(data['LoanAmount'].mean(), inplace=True)"
   ]
  },
  {
   "cell_type": "markdown",
   "id": "c379493c",
   "metadata": {},
   "source": [
    "In this work, we are going to be utilzing the Bayesian Network Strucuture learning method of causalNex for learning the causal relationships between the variables. Although, for the case of loan eligibility problem and in general, there is a need for domain knowledge for setting up the structure of the BN but first we are going to use the inbuilt algorithms in causalNex to demonstrate autmatic learning using causalNex. Later on, we will use domain knowledge for Loan eligibility to setup a structure for BN. The structure leanring function of causalNex requires the data to be in numeric form so we are going to first convert the data for this purpose."
   ]
  },
  {
   "cell_type": "markdown",
   "id": "5ed76f02",
   "metadata": {},
   "source": [
    "We begin by finding the columns which have categorical form and the following code snippet can be used to extract the columns that corresspond to categorical variables"
   ]
  },
  {
   "cell_type": "code",
   "execution_count": 7,
   "id": "60b610b0",
   "metadata": {},
   "outputs": [],
   "source": [
    "drop_col = ['Loan_ID']\n",
    "data = data.drop(columns=drop_col)"
   ]
  },
  {
   "cell_type": "code",
   "execution_count": 8,
   "id": "7cc8739a",
   "metadata": {},
   "outputs": [
    {
     "name": "stdout",
     "output_type": "stream",
     "text": [
      "['Gender', 'Married', 'Dependents', 'Education', 'Self_Employed', 'Property_Area', 'Loan_Status']\n"
     ]
    }
   ],
   "source": [
    "import numpy as np\n",
    "\n",
    "struct_data = data.copy()\n",
    "non_numeric_columns = list(struct_data.select_dtypes(exclude=[np.number]).columns)\n",
    "\n",
    "print(non_numeric_columns)"
   ]
  },
  {
   "cell_type": "markdown",
   "id": "1a4dadf0",
   "metadata": {},
   "source": [
    "For this work, we are also going to convert the numerical variables into categories for causelNex implementation. For this data, we have the following variables currently corressponding to numerical variables:\n",
    "\n",
    "LoanAmount\n",
    "\n",
    "ApplicantIncome\n",
    "\n",
    "Coapplicantincome\n",
    "\n",
    "Loan_Amount_Term\n",
    "\n",
    "\n",
    "First, for the sake of easy demonstration, we are going sum the ApplicantIncome and Coapplicantincome into one variable called TotalIncome and drop the variables ApplicantIncome and CoapplicantIncome from the overall data. The following code snippet can be used for this purpose."
   ]
  },
  {
   "cell_type": "code",
   "execution_count": 9,
   "id": "9ff39e7f",
   "metadata": {},
   "outputs": [],
   "source": [
    "struct_data['TotalIncome']= struct_data['ApplicantIncome'] +struct_data['CoapplicantIncome'] \n",
    "drop_col = ['ApplicantIncome','CoapplicantIncome']\n",
    "struct_data = struct_data.drop(columns=drop_col)"
   ]
  },
  {
   "cell_type": "markdown",
   "id": "b7e67870",
   "metadata": {},
   "source": [
    "Inorder to ultimately convert the numerical variables into catergorical, we first need to discretize the numerical variables. Inorder to box thse variables into discrete bins, we first need to decide the bin boundaries. For this purpose we are going to use boxplot and hitogram to visualize these variables"
   ]
  },
  {
   "cell_type": "code",
   "execution_count": 10,
   "id": "4301d634",
   "metadata": {},
   "outputs": [
    {
     "data": {
      "image/png": "[encoded data removed]",
      "text/plain": [
       "<Figure size 432x288 with 1 Axes>"
      ]
     },
     "metadata": {
      "needs_background": "light"
     },
     "output_type": "display_data"
    },
    {
     "data": {
      "image/png": "[encoded data removed]",
      "text/plain": [
       "<Figure size 432x288 with 1 Axes>"
      ]
     },
     "metadata": {
      "needs_background": "light"
     },
     "output_type": "display_data"
    },
    {
     "data": {
      "image/png": "[encoded data removed]",
      "text/plain": [
       "<Figure size 432x288 with 1 Axes>"
      ]
     },
     "metadata": {
      "needs_background": "light"
     },
     "output_type": "display_data"
    }
   ],
   "source": [
    "sns.boxplot(y='TotalIncome',data=struct_data)\n",
    "plt.figure()\n",
    "sns.boxplot(y='LoanAmount',data=data)\n",
    "plt.figure()\n",
    "sns.distplot(data.Loan_Amount_Term.dropna(),kde=False)\n",
    "plt.show()"
   ]
  },
  {
   "cell_type": "markdown",
   "id": "68bff345",
   "metadata": {},
   "source": [
    "\n",
    "\n",
    "\n",
    "We can see from the above plots that the following boundaries can be used for the variables:\n",
    "\n",
    "TotalIncome = [15000,50000]\n",
    "\n",
    "LoanAmount = [200,550]\n",
    "\n",
    "Loan_Amount_Term = [365]\n",
    "\n",
    "\n",
    "Now that we have the boundaries, we need to convert the variables into descretized values"
   ]
  },
  {
   "cell_type": "code",
   "execution_count": 11,
   "id": "b98af307",
   "metadata": {},
   "outputs": [],
   "source": [
    "\n",
    "discretised_data = struct_data.copy()\n",
    "\n",
    "discretised_data[\"TotalIncome\"] = np.digitize(discretised_data[\"TotalIncome\"],[15000,50000])\n",
    "discretised_data[\"LoanAmount\"] = np.digitize(discretised_data[\"LoanAmount\"],[200,550])\n",
    "discretised_data[\"Loan_Amount_Term\"] = np.digitize(discretised_data[\"Loan_Amount_Term\"],[365])"
   ]
  },
  {
   "cell_type": "markdown",
   "id": "249a72e1",
   "metadata": {},
   "source": [
    "After descrtising the data, we can then map the bins into different categories. We use three different categories for TotalIncome & LoanAmount i.e low, medium, high and two categories for Loan_Amount_Term."
   ]
  },
  {
   "cell_type": "code",
   "execution_count": 12,
   "id": "d054c524",
   "metadata": {},
   "outputs": [],
   "source": [
    "income_map = {0: \"low\", 1: \"med\", 2: \"High\"}\n",
    "loan_term_map = {0:\"short\",1:\"long\"}\n",
    "discretised_data[\"TotalIncome\"] = discretised_data[\"TotalIncome\"].map(income_map)\n",
    "discretised_data[\"LoanAmount\"] = discretised_data[\"LoanAmount\"].map(income_map)\n",
    "discretised_data[\"Loan_Amount_Term\"] = discretised_data[\"Loan_Amount_Term\"].map(loan_term_map)\n",
    "discretised_data_copy = discretised_data.copy() "
   ]
  },
  {
   "cell_type": "code",
   "execution_count": 13,
   "id": "f585ce82",
   "metadata": {
    "scrolled": true
   },
   "outputs": [
    {
     "data": {
      "text/html": [
       "<div>\n",
       "<style scoped>\n",
       "    .dataframe tbody tr th:only-of-type {\n",
       "        vertical-align: middle;\n",
       "    }\n",
       "\n",
       "    .dataframe tbody tr th {\n",
       "        vertical-align: top;\n",
       "    }\n",
       "\n",
       "    .dataframe thead th {\n",
       "        text-align: right;\n",
       "    }\n",
       "</style>\n",
       "<table border=\"1\" class=\"dataframe\">\n",
       "  <thead>\n",
       "    <tr style=\"text-align: right;\">\n",
       "      <th></th>\n",
       "      <th>Gender</th>\n",
       "      <th>Married</th>\n",
       "      <th>Dependents</th>\n",
       "      <th>Education</th>\n",
       "      <th>Self_Employed</th>\n",
       "      <th>LoanAmount</th>\n",
       "      <th>Loan_Amount_Term</th>\n",
       "      <th>Credit_History</th>\n",
       "      <th>Property_Area</th>\n",
       "      <th>Loan_Status</th>\n",
       "      <th>TotalIncome</th>\n",
       "    </tr>\n",
       "  </thead>\n",
       "  <tbody>\n",
       "    <tr>\n",
       "      <th>0</th>\n",
       "      <td>Male</td>\n",
       "      <td>No</td>\n",
       "      <td>0</td>\n",
       "      <td>Graduate</td>\n",
       "      <td>No</td>\n",
       "      <td>low</td>\n",
       "      <td>short</td>\n",
       "      <td>1.0</td>\n",
       "      <td>Urban</td>\n",
       "      <td>Y</td>\n",
       "      <td>low</td>\n",
       "    </tr>\n",
       "    <tr>\n",
       "      <th>1</th>\n",
       "      <td>Male</td>\n",
       "      <td>Yes</td>\n",
       "      <td>1</td>\n",
       "      <td>Graduate</td>\n",
       "      <td>No</td>\n",
       "      <td>low</td>\n",
       "      <td>short</td>\n",
       "      <td>1.0</td>\n",
       "      <td>Rural</td>\n",
       "      <td>N</td>\n",
       "      <td>low</td>\n",
       "    </tr>\n",
       "    <tr>\n",
       "      <th>2</th>\n",
       "      <td>Male</td>\n",
       "      <td>Yes</td>\n",
       "      <td>0</td>\n",
       "      <td>Graduate</td>\n",
       "      <td>Yes</td>\n",
       "      <td>low</td>\n",
       "      <td>short</td>\n",
       "      <td>1.0</td>\n",
       "      <td>Urban</td>\n",
       "      <td>Y</td>\n",
       "      <td>low</td>\n",
       "    </tr>\n",
       "    <tr>\n",
       "      <th>3</th>\n",
       "      <td>Male</td>\n",
       "      <td>Yes</td>\n",
       "      <td>0</td>\n",
       "      <td>Not Graduate</td>\n",
       "      <td>No</td>\n",
       "      <td>low</td>\n",
       "      <td>short</td>\n",
       "      <td>1.0</td>\n",
       "      <td>Urban</td>\n",
       "      <td>Y</td>\n",
       "      <td>low</td>\n",
       "    </tr>\n",
       "    <tr>\n",
       "      <th>4</th>\n",
       "      <td>Male</td>\n",
       "      <td>No</td>\n",
       "      <td>0</td>\n",
       "      <td>Graduate</td>\n",
       "      <td>No</td>\n",
       "      <td>low</td>\n",
       "      <td>short</td>\n",
       "      <td>1.0</td>\n",
       "      <td>Urban</td>\n",
       "      <td>Y</td>\n",
       "      <td>low</td>\n",
       "    </tr>\n",
       "  </tbody>\n",
       "</table>\n",
       "</div>"
      ],
      "text/plain": [
       "  Gender Married Dependents     Education Self_Employed LoanAmount  \\\n",
       "0   Male      No          0      Graduate            No        low   \n",
       "1   Male     Yes          1      Graduate            No        low   \n",
       "2   Male     Yes          0      Graduate           Yes        low   \n",
       "3   Male     Yes          0  Not Graduate            No        low   \n",
       "4   Male      No          0      Graduate            No        low   \n",
       "\n",
       "  Loan_Amount_Term  Credit_History Property_Area Loan_Status TotalIncome  \n",
       "0            short             1.0         Urban           Y         low  \n",
       "1            short             1.0         Rural           N         low  \n",
       "2            short             1.0         Urban           Y         low  \n",
       "3            short             1.0         Urban           Y         low  \n",
       "4            short             1.0         Urban           Y         low  "
      ]
     },
     "execution_count": 13,
     "metadata": {},
     "output_type": "execute_result"
    }
   ],
   "source": [
    "discretised_data.head()"
   ]
  },
  {
   "cell_type": "markdown",
   "id": "73308250",
   "metadata": {},
   "source": [
    "We can now use the non-numeric variables and map them into numeric form since the BN structure learning model requries numeric variables"
   ]
  },
  {
   "cell_type": "code",
   "execution_count": 39,
   "id": "4a613392",
   "metadata": {},
   "outputs": [
    {
     "data": {
      "text/html": [
       "<div>\n",
       "<style scoped>\n",
       "    .dataframe tbody tr th:only-of-type {\n",
       "        vertical-align: middle;\n",
       "    }\n",
       "\n",
       "    .dataframe tbody tr th {\n",
       "        vertical-align: top;\n",
       "    }\n",
       "\n",
       "    .dataframe thead th {\n",
       "        text-align: right;\n",
       "    }\n",
       "</style>\n",
       "<table border=\"1\" class=\"dataframe\">\n",
       "  <thead>\n",
       "    <tr style=\"text-align: right;\">\n",
       "      <th></th>\n",
       "      <th>Gender</th>\n",
       "      <th>Married</th>\n",
       "      <th>Dependents</th>\n",
       "      <th>Education</th>\n",
       "      <th>Self_Employed</th>\n",
       "      <th>LoanAmount</th>\n",
       "      <th>Loan_Amount_Term</th>\n",
       "      <th>Credit_History</th>\n",
       "      <th>Property_Area</th>\n",
       "      <th>Loan_Status</th>\n",
       "      <th>TotalIncome</th>\n",
       "    </tr>\n",
       "  </thead>\n",
       "  <tbody>\n",
       "    <tr>\n",
       "      <th>0</th>\n",
       "      <td>1</td>\n",
       "      <td>0</td>\n",
       "      <td>0</td>\n",
       "      <td>0</td>\n",
       "      <td>0</td>\n",
       "      <td>1</td>\n",
       "      <td>1</td>\n",
       "      <td>1</td>\n",
       "      <td>2</td>\n",
       "      <td>1</td>\n",
       "      <td>1</td>\n",
       "    </tr>\n",
       "    <tr>\n",
       "      <th>1</th>\n",
       "      <td>1</td>\n",
       "      <td>1</td>\n",
       "      <td>1</td>\n",
       "      <td>0</td>\n",
       "      <td>0</td>\n",
       "      <td>1</td>\n",
       "      <td>1</td>\n",
       "      <td>1</td>\n",
       "      <td>0</td>\n",
       "      <td>0</td>\n",
       "      <td>1</td>\n",
       "    </tr>\n",
       "    <tr>\n",
       "      <th>2</th>\n",
       "      <td>1</td>\n",
       "      <td>1</td>\n",
       "      <td>0</td>\n",
       "      <td>0</td>\n",
       "      <td>1</td>\n",
       "      <td>1</td>\n",
       "      <td>1</td>\n",
       "      <td>1</td>\n",
       "      <td>2</td>\n",
       "      <td>1</td>\n",
       "      <td>1</td>\n",
       "    </tr>\n",
       "    <tr>\n",
       "      <th>3</th>\n",
       "      <td>1</td>\n",
       "      <td>1</td>\n",
       "      <td>0</td>\n",
       "      <td>1</td>\n",
       "      <td>0</td>\n",
       "      <td>1</td>\n",
       "      <td>1</td>\n",
       "      <td>1</td>\n",
       "      <td>2</td>\n",
       "      <td>1</td>\n",
       "      <td>1</td>\n",
       "    </tr>\n",
       "    <tr>\n",
       "      <th>4</th>\n",
       "      <td>1</td>\n",
       "      <td>0</td>\n",
       "      <td>0</td>\n",
       "      <td>0</td>\n",
       "      <td>0</td>\n",
       "      <td>1</td>\n",
       "      <td>1</td>\n",
       "      <td>1</td>\n",
       "      <td>2</td>\n",
       "      <td>1</td>\n",
       "      <td>1</td>\n",
       "    </tr>\n",
       "  </tbody>\n",
       "</table>\n",
       "</div>"
      ],
      "text/plain": [
       "   Gender  Married  Dependents  Education  Self_Employed  LoanAmount  \\\n",
       "0       1        0           0          0              0           1   \n",
       "1       1        1           1          0              0           1   \n",
       "2       1        1           0          0              1           1   \n",
       "3       1        1           0          1              0           1   \n",
       "4       1        0           0          0              0           1   \n",
       "\n",
       "   Loan_Amount_Term  Credit_History  Property_Area  Loan_Status  TotalIncome  \n",
       "0                 1               1              2            1            1  \n",
       "1                 1               1              0            0            1  \n",
       "2                 1               1              2            1            1  \n",
       "3                 1               1              2            1            1  \n",
       "4                 1               1              2            1            1  "
      ]
     },
     "execution_count": 39,
     "metadata": {},
     "output_type": "execute_result"
    }
   ],
   "source": [
    "from sklearn.preprocessing import LabelEncoder\n",
    "non_numeric_columns = list(discretised_data.select_dtypes(exclude=[np.number]).columns)\n",
    "\n",
    "le = LabelEncoder()\n",
    "\n",
    "for col in non_numeric_columns:\n",
    "    discretised_data[col] = le.fit_transform(discretised_data[col])\n",
    "discretised_data[\"Credit_History\"] = discretised_data[\"Credit_History\"].astype(int)\n",
    "\n",
    "discretised_data.head(5)"
   ]
  },
  {
   "cell_type": "markdown",
   "id": "e66f0257",
   "metadata": {},
   "source": [
    "# Bayesian Network Structure Learning"
   ]
  },
  {
   "cell_type": "markdown",
   "id": "b1227385",
   "metadata": {},
   "source": [
    "Now that we have preprocessed the data, we can start to build models using the DoWhy library which we will install below."
   ]
  },
  {
   "cell_type": "code",
   "execution_count": 15,
   "id": "8a039003",
   "metadata": {},
   "outputs": [],
   "source": [
    "import graphviz"
   ]
  },
  {
   "cell_type": "code",
   "execution_count": 16,
   "id": "65cf793f",
   "metadata": {},
   "outputs": [
    {
     "name": "stdout",
     "output_type": "stream",
     "text": [
      "digraph {\n",
      "\tLoanAmount [label=LoanAmount]\n",
      "\tSelf_Employed [label=Self_Employed]\n",
      "\tEducation [label=Education]\n",
      "\tLoan_Status [label=Loan_Status]\n",
      "\tLoan_Amount_Term [label=Loan_Amount_Term]\n",
      "\tProperty_Area [label=Property_Area]\n",
      "\tCredit_History [label=Credit_History]\n",
      "\tTotalIncome [label=TotalIncome]\n",
      "\tEducation -> TotalIncome\n",
      "\tSelf_Employed -> TotalIncome\n",
      "\tTotalIncome -> Loan_Status\n",
      "\tLoan_Amount_Term -> Loan_Status\n",
      "\tCredit_History -> Loan_Status\n",
      "\tLoanAmount -> Loan_Status\n",
      "\tProperty_Area -> LoanAmount\n",
      "}\n",
      "\n"
     ]
    },
    {
     "data": {
      "image/png": "[encoded data removed]",
      "text/plain": [
       "<IPython.core.display.Image object>"
      ]
     },
     "metadata": {},
     "output_type": "display_data"
    }
   ],
   "source": [
    "from IPython.display import Image, display\n",
    "\n",
    "dot = graphviz.Digraph() \n",
    "\n",
    "dot.node('LoanAmount', 'LoanAmount')  \n",
    "dot.node('Self_Employed', 'Self_Employed')\n",
    "dot.node('Education', 'Education')\n",
    "dot.node('Loan_Status', 'Loan_Status')\n",
    " \n",
    "dot.node('Loan_Amount_Term','Loan_Amount_Term')\n",
    "dot.node('Property_Area', 'Property_Area')\n",
    "dot.node('Credit_History', 'Credit_History')\n",
    "dot.node('TotalIncome', 'TotalIncome')\n",
    "\n",
    "\n",
    "dot.edge('Education', 'TotalIncome')\n",
    "dot.edge('Self_Employed', 'TotalIncome')\n",
    "dot.edge('TotalIncome', 'Loan_Status')\n",
    "dot.edge('Loan_Amount_Term', 'Loan_Status')\n",
    "dot.edge('Credit_History', 'Loan_Status')\n",
    "dot.edge('LoanAmount', 'Loan_Status')\n",
    "dot.edge('Property_Area', 'LoanAmount')\n",
    "\n",
    "print(dot.source)\n",
    "\n",
    "dot.format = 'png'\n",
    "dot.render(directory='doctest-output', view = True).replace('\\\\', '/')\n",
    "display(Image(filename=\"Digraph.gv.png\"))"
   ]
  },
  {
   "cell_type": "markdown",
   "id": "75ee0ee8",
   "metadata": {},
   "source": [
    "Now we can test basic digraphs for our data."
   ]
  },
  {
   "cell_type": "markdown",
   "id": "c4263d55",
   "metadata": {},
   "source": [
    "\"sm\" contains the structure of BN showing the causal relationships. It should be noted that learning the BN structure can have unexpected results and it is recommended to add domain knowledge to the overall problem. \n",
    "\n",
    "To visualize the the BN, we can use the following code snipet. It can be seen that we are keep a threshold of 0.5 using sm.remove_edges_below_threshold(0.5) which removes any edge with lesser than a certain weight.\n"
   ]
  },
  {
   "cell_type": "code",
   "execution_count": 40,
   "id": "0cb7f90b",
   "metadata": {},
   "outputs": [
    {
     "ename": "AttributeError",
     "evalue": "'Series' object has no attribute 'unqiue'",
     "output_type": "error",
     "traceback": [
      "\u001b[1;31m---------------------------------------------------------------------------\u001b[0m",
      "\u001b[1;31mAttributeError\u001b[0m                            Traceback (most recent call last)",
      "Input \u001b[1;32mIn [40]\u001b[0m, in \u001b[0;36m<cell line: 1>\u001b[1;34m()\u001b[0m\n\u001b[1;32m----> 1\u001b[0m \u001b[38;5;28mprint\u001b[39m(\u001b[43mdiscretised_data\u001b[49m\u001b[43m[\u001b[49m\u001b[38;5;124;43m'\u001b[39;49m\u001b[38;5;124;43mCredit_History\u001b[39;49m\u001b[38;5;124;43m'\u001b[39;49m\u001b[43m]\u001b[49m\u001b[38;5;241;43m.\u001b[39;49m\u001b[43munqiue\u001b[49m())\n",
      "File \u001b[1;32m~\\anaconda3\\lib\\site-packages\\pandas\\core\\generic.py:5575\u001b[0m, in \u001b[0;36mNDFrame.__getattr__\u001b[1;34m(self, name)\u001b[0m\n\u001b[0;32m   5568\u001b[0m \u001b[38;5;28;01mif\u001b[39;00m (\n\u001b[0;32m   5569\u001b[0m     name \u001b[38;5;129;01mnot\u001b[39;00m \u001b[38;5;129;01min\u001b[39;00m \u001b[38;5;28mself\u001b[39m\u001b[38;5;241m.\u001b[39m_internal_names_set\n\u001b[0;32m   5570\u001b[0m     \u001b[38;5;129;01mand\u001b[39;00m name \u001b[38;5;129;01mnot\u001b[39;00m \u001b[38;5;129;01min\u001b[39;00m \u001b[38;5;28mself\u001b[39m\u001b[38;5;241m.\u001b[39m_metadata\n\u001b[0;32m   5571\u001b[0m     \u001b[38;5;129;01mand\u001b[39;00m name \u001b[38;5;129;01mnot\u001b[39;00m \u001b[38;5;129;01min\u001b[39;00m \u001b[38;5;28mself\u001b[39m\u001b[38;5;241m.\u001b[39m_accessors\n\u001b[0;32m   5572\u001b[0m     \u001b[38;5;129;01mand\u001b[39;00m \u001b[38;5;28mself\u001b[39m\u001b[38;5;241m.\u001b[39m_info_axis\u001b[38;5;241m.\u001b[39m_can_hold_identifiers_and_holds_name(name)\n\u001b[0;32m   5573\u001b[0m ):\n\u001b[0;32m   5574\u001b[0m     \u001b[38;5;28;01mreturn\u001b[39;00m \u001b[38;5;28mself\u001b[39m[name]\n\u001b[1;32m-> 5575\u001b[0m \u001b[38;5;28;01mreturn\u001b[39;00m \u001b[38;5;28;43mobject\u001b[39;49m\u001b[38;5;241;43m.\u001b[39;49m\u001b[38;5;21;43m__getattribute__\u001b[39;49m\u001b[43m(\u001b[49m\u001b[38;5;28;43mself\u001b[39;49m\u001b[43m,\u001b[49m\u001b[43m \u001b[49m\u001b[43mname\u001b[49m\u001b[43m)\u001b[49m\n",
      "\u001b[1;31mAttributeError\u001b[0m: 'Series' object has no attribute 'unqiue'"
     ]
    }
   ],
   "source": [
    "print(discretised_data['Credit_History'].unqiue())"
   ]
  },
  {
   "cell_type": "code",
   "execution_count": 58,
   "id": "74f81c7c",
   "metadata": {
    "scrolled": true
   },
   "outputs": [
    {
     "data": {
      "image/png": "[encoded data removed]",
      "text/plain": [
       "<IPython.core.display.Image object>"
      ]
     },
     "metadata": {},
     "output_type": "display_data"
    },
    {
     "data": {
      "image/png": "[encoded data removed]",
      "text/plain": [
       "<Figure size 576x432 with 1 Axes>"
      ]
     },
     "metadata": {},
     "output_type": "display_data"
    }
   ],
   "source": [
    "import dowhy\n",
    "\n",
    "from dowhy import CausalModel\n",
    "\n",
    "\n",
    "model = dowhy.CausalModel(data=discretised_data,                    \n",
    "                     graph=dot.source.replace(\"\\t\", ' ').replace(\"\\n\", ' '),\n",
    "                     treatment = 'Credit_History',\n",
    "                     common_causes = ['LoanAmount','Loan_Amount_Term','TotalIncome'],\n",
    "                     outcome=\"Loan_Status\")\n",
    "model.view_model() \n",
    "\n",
    "from IPython.display import Image, display\n",
    "display(Image(filename=\"causal_model.png\"))"
   ]
  },
  {
   "cell_type": "markdown",
   "id": "27498e06",
   "metadata": {},
   "source": [
    "It can be seen that the causal relationship is not what we expect. The Total Income for example should be affecting the Loan_Status. Since the algorithm does not have this information, it is always recommendaed to add domain knowledge for structure learning. We can add and remove edges as follow:\n",
    "\n",
    "sm.add_edge(\"Variable_parent\", \"Variable_child\")\n",
    "\n",
    "sm.remove_edge(\"Variable_parent\", \"Variable_child\")\n",
    "\n",
    "We can also add constrainsts as explained earlier or in some cases we can get the largest subgraph using the following command: \n",
    "\n",
    "\n",
    "sm = sm.get_largest_subgraph()\n",
    "\n",
    "\n",
    "In this case, we are going to define the BN structure by our self with the help of domain knowledge\n",
    "\n",
    "The following code snipet defines the graph and visualizes it"
   ]
  },
  {
   "cell_type": "code",
   "execution_count": 59,
   "id": "f8c887c3",
   "metadata": {
    "scrolled": true
   },
   "outputs": [
    {
     "name": "stdout",
     "output_type": "stream",
     "text": [
      "Estimand type: nonparametric-ate\n",
      "\n",
      "### Estimand : 1\n",
      "Estimand name: backdoor\n",
      "Estimand expression:\n",
      "        d                        \n",
      "─────────────────(E[Loan_Status])\n",
      "d[Credit_History]                \n",
      "Estimand assumption 1, Unconfoundedness: If U→{Credit_History} and U→Loan_Status then P(Loan_Status|Credit_History,,U) = P(Loan_Status|Credit_History,)\n",
      "\n",
      "### Estimand : 2\n",
      "Estimand name: iv\n",
      "No such variable(s) found!\n",
      "\n",
      "### Estimand : 3\n",
      "Estimand name: frontdoor\n",
      "No such variable(s) found!\n",
      "\n"
     ]
    }
   ],
   "source": [
    "identified_estimand = model.identify_effect(proceed_when_unidentifiable=True)\n",
    "print(identified_estimand)"
   ]
  },
  {
   "cell_type": "code",
   "execution_count": 61,
   "id": "143a01c8",
   "metadata": {
    "scrolled": true
   },
   "outputs": [
    {
     "name": "stdout",
     "output_type": "stream",
     "text": [
      "linear_regression\n",
      "{'control_value': 0, 'treatment_value': 1, 'test_significance': None, 'evaluate_effect_strength': False, 'confidence_intervals': False, 'target_units': 'att', 'effect_modifiers': ['TotalIncome', 'LoanAmount', 'Education', 'Property_Area', 'Self_Employed', 'Loan_Amount_Term']}\n",
      "{0.7110373935092399}\n",
      "{'control_value': 0, 'treatment_value': 1, 'test_significance': False, 'evaluate_effect_strength': False, 'confidence_intervals': False, 'target_units': 'att', 'effect_modifiers': ['TotalIncome', 'LoanAmount', 'Education', 'Property_Area', 'Self_Employed', 'Loan_Amount_Term']}\n",
      "{'control_value': 0, 'treatment_value': 1, 'test_significance': False, 'evaluate_effect_strength': False, 'confidence_intervals': False, 'target_units': 'att', 'effect_modifiers': ['TotalIncome', 'LoanAmount', 'Education', 'Property_Area', 'Self_Employed', 'Loan_Amount_Term']}\n",
      "{'control_value': 0, 'treatment_value': 1, 'test_significance': False, 'evaluate_effect_strength': False, 'confidence_intervals': False, 'target_units': 'att', 'effect_modifiers': ['TotalIncome', 'LoanAmount', 'Education', 'Property_Area', 'Self_Employed', 'Loan_Amount_Term']}\n",
      "{'control_value': 0, 'treatment_value': 1, 'test_significance': False, 'evaluate_effect_strength': False, 'confidence_intervals': False, 'target_units': 'att', 'effect_modifiers': ['TotalIncome', 'LoanAmount', 'Education', 'Property_Area', 'Self_Employed', 'Loan_Amount_Term']}\n",
      "{'control_value': 0, 'treatment_value': 1, 'test_significance': False, 'evaluate_effect_strength': False, 'confidence_intervals': False, 'target_units': 'att', 'effect_modifiers': ['TotalIncome', 'LoanAmount', 'Education', 'Property_Area', 'Self_Employed', 'Loan_Amount_Term']}\n",
      "{'control_value': 0, 'treatment_value': 1, 'test_significance': False, 'evaluate_effect_strength': False, 'confidence_intervals': False, 'target_units': 'att', 'effect_modifiers': ['TotalIncome', 'LoanAmount', 'Education', 'Property_Area', 'Self_Employed', 'Loan_Amount_Term']}\n",
      "{'control_value': 0, 'treatment_value': 1, 'test_significance': False, 'evaluate_effect_strength': False, 'confidence_intervals': False, 'target_units': 'att', 'effect_modifiers': ['TotalIncome', 'LoanAmount', 'Education', 'Property_Area', 'Self_Employed', 'Loan_Amount_Term']}\n",
      "{'control_value': 0, 'treatment_value': 1, 'test_significance': False, 'evaluate_effect_strength': False, 'confidence_intervals': False, 'target_units': 'att', 'effect_modifiers': ['TotalIncome', 'LoanAmount', 'Education', 'Property_Area', 'Self_Employed', 'Loan_Amount_Term']}\n",
      "{'control_value': 0, 'treatment_value': 1, 'test_significance': False, 'evaluate_effect_strength': False, 'confidence_intervals': False, 'target_units': 'att', 'effect_modifiers': ['TotalIncome', 'LoanAmount', 'Education', 'Property_Area', 'Self_Employed', 'Loan_Amount_Term']}\n",
      "{'control_value': 0, 'treatment_value': 1, 'test_significance': False, 'evaluate_effect_strength': False, 'confidence_intervals': False, 'target_units': 'att', 'effect_modifiers': ['TotalIncome', 'LoanAmount', 'Education', 'Property_Area', 'Self_Employed', 'Loan_Amount_Term']}\n",
      "{'control_value': 0, 'treatment_value': 1, 'test_significance': False, 'evaluate_effect_strength': False, 'confidence_intervals': False, 'target_units': 'att', 'effect_modifiers': ['TotalIncome', 'LoanAmount', 'Education', 'Property_Area', 'Self_Employed', 'Loan_Amount_Term']}\n",
      "{'control_value': 0, 'treatment_value': 1, 'test_significance': False, 'evaluate_effect_strength': False, 'confidence_intervals': False, 'target_units': 'att', 'effect_modifiers': ['TotalIncome', 'LoanAmount', 'Education', 'Property_Area', 'Self_Employed', 'Loan_Amount_Term']}\n",
      "{'control_value': 0, 'treatment_value': 1, 'test_significance': False, 'evaluate_effect_strength': False, 'confidence_intervals': False, 'target_units': 'att', 'effect_modifiers': ['TotalIncome', 'LoanAmount', 'Education', 'Property_Area', 'Self_Employed', 'Loan_Amount_Term']}\n",
      "{'control_value': 0, 'treatment_value': 1, 'test_significance': False, 'evaluate_effect_strength': False, 'confidence_intervals': False, 'target_units': 'att', 'effect_modifiers': ['TotalIncome', 'LoanAmount', 'Education', 'Property_Area', 'Self_Employed', 'Loan_Amount_Term']}\n",
      "{'control_value': 0, 'treatment_value': 1, 'test_significance': False, 'evaluate_effect_strength': False, 'confidence_intervals': False, 'target_units': 'att', 'effect_modifiers': ['TotalIncome', 'LoanAmount', 'Education', 'Property_Area', 'Self_Employed', 'Loan_Amount_Term']}\n",
      "{'control_value': 0, 'treatment_value': 1, 'test_significance': False, 'evaluate_effect_strength': False, 'confidence_intervals': False, 'target_units': 'att', 'effect_modifiers': ['TotalIncome', 'LoanAmount', 'Education', 'Property_Area', 'Self_Employed', 'Loan_Amount_Term']}\n",
      "{'control_value': 0, 'treatment_value': 1, 'test_significance': False, 'evaluate_effect_strength': False, 'confidence_intervals': False, 'target_units': 'att', 'effect_modifiers': ['TotalIncome', 'LoanAmount', 'Education', 'Property_Area', 'Self_Employed', 'Loan_Amount_Term']}\n",
      "{'control_value': 0, 'treatment_value': 1, 'test_significance': False, 'evaluate_effect_strength': False, 'confidence_intervals': False, 'target_units': 'att', 'effect_modifiers': ['TotalIncome', 'LoanAmount', 'Education', 'Property_Area', 'Self_Employed', 'Loan_Amount_Term']}\n",
      "{'control_value': 0, 'treatment_value': 1, 'test_significance': False, 'evaluate_effect_strength': False, 'confidence_intervals': False, 'target_units': 'att', 'effect_modifiers': ['TotalIncome', 'LoanAmount', 'Education', 'Property_Area', 'Self_Employed', 'Loan_Amount_Term']}\n",
      "{'control_value': 0, 'treatment_value': 1, 'test_significance': False, 'evaluate_effect_strength': False, 'confidence_intervals': False, 'target_units': 'att', 'effect_modifiers': ['TotalIncome', 'LoanAmount', 'Education', 'Property_Area', 'Self_Employed', 'Loan_Amount_Term']}\n",
      "{'control_value': 0, 'treatment_value': 1, 'test_significance': False, 'evaluate_effect_strength': False, 'confidence_intervals': False, 'target_units': 'att', 'effect_modifiers': ['TotalIncome', 'LoanAmount', 'Education', 'Property_Area', 'Self_Employed', 'Loan_Amount_Term']}\n",
      "{'control_value': 0, 'treatment_value': 1, 'test_significance': False, 'evaluate_effect_strength': False, 'confidence_intervals': False, 'target_units': 'att', 'effect_modifiers': ['TotalIncome', 'LoanAmount', 'Education', 'Property_Area', 'Self_Employed', 'Loan_Amount_Term']}\n",
      "{'control_value': 0, 'treatment_value': 1, 'test_significance': False, 'evaluate_effect_strength': False, 'confidence_intervals': False, 'target_units': 'att', 'effect_modifiers': ['TotalIncome', 'LoanAmount', 'Education', 'Property_Area', 'Self_Employed', 'Loan_Amount_Term']}\n",
      "{'control_value': 0, 'treatment_value': 1, 'test_significance': False, 'evaluate_effect_strength': False, 'confidence_intervals': False, 'target_units': 'att', 'effect_modifiers': ['TotalIncome', 'LoanAmount', 'Education', 'Property_Area', 'Self_Employed', 'Loan_Amount_Term']}\n",
      "{'control_value': 0, 'treatment_value': 1, 'test_significance': False, 'evaluate_effect_strength': False, 'confidence_intervals': False, 'target_units': 'att', 'effect_modifiers': ['TotalIncome', 'LoanAmount', 'Education', 'Property_Area', 'Self_Employed', 'Loan_Amount_Term']}\n",
      "{'control_value': 0, 'treatment_value': 1, 'test_significance': False, 'evaluate_effect_strength': False, 'confidence_intervals': False, 'target_units': 'att', 'effect_modifiers': ['TotalIncome', 'LoanAmount', 'Education', 'Property_Area', 'Self_Employed', 'Loan_Amount_Term']}\n",
      "{'control_value': 0, 'treatment_value': 1, 'test_significance': False, 'evaluate_effect_strength': False, 'confidence_intervals': False, 'target_units': 'att', 'effect_modifiers': ['TotalIncome', 'LoanAmount', 'Education', 'Property_Area', 'Self_Employed', 'Loan_Amount_Term']}\n",
      "{'control_value': 0, 'treatment_value': 1, 'test_significance': False, 'evaluate_effect_strength': False, 'confidence_intervals': False, 'target_units': 'att', 'effect_modifiers': ['TotalIncome', 'LoanAmount', 'Education', 'Property_Area', 'Self_Employed', 'Loan_Amount_Term']}\n",
      "{'control_value': 0, 'treatment_value': 1, 'test_significance': False, 'evaluate_effect_strength': False, 'confidence_intervals': False, 'target_units': 'att', 'effect_modifiers': ['TotalIncome', 'LoanAmount', 'Education', 'Property_Area', 'Self_Employed', 'Loan_Amount_Term']}\n"
     ]
    },
    {
     "name": "stdout",
     "output_type": "stream",
     "text": [
      "{'control_value': 0, 'treatment_value': 1, 'test_significance': False, 'evaluate_effect_strength': False, 'confidence_intervals': False, 'target_units': 'att', 'effect_modifiers': ['TotalIncome', 'LoanAmount', 'Education', 'Property_Area', 'Self_Employed', 'Loan_Amount_Term']}\n",
      "{'control_value': 0, 'treatment_value': 1, 'test_significance': False, 'evaluate_effect_strength': False, 'confidence_intervals': False, 'target_units': 'att', 'effect_modifiers': ['TotalIncome', 'LoanAmount', 'Education', 'Property_Area', 'Self_Employed', 'Loan_Amount_Term']}\n",
      "{'control_value': 0, 'treatment_value': 1, 'test_significance': False, 'evaluate_effect_strength': False, 'confidence_intervals': False, 'target_units': 'att', 'effect_modifiers': ['TotalIncome', 'LoanAmount', 'Education', 'Property_Area', 'Self_Employed', 'Loan_Amount_Term']}\n",
      "{'control_value': 0, 'treatment_value': 1, 'test_significance': False, 'evaluate_effect_strength': False, 'confidence_intervals': False, 'target_units': 'att', 'effect_modifiers': ['TotalIncome', 'LoanAmount', 'Education', 'Property_Area', 'Self_Employed', 'Loan_Amount_Term']}\n",
      "{'control_value': 0, 'treatment_value': 1, 'test_significance': False, 'evaluate_effect_strength': False, 'confidence_intervals': False, 'target_units': 'att', 'effect_modifiers': ['TotalIncome', 'LoanAmount', 'Education', 'Property_Area', 'Self_Employed', 'Loan_Amount_Term']}\n",
      "{'control_value': 0, 'treatment_value': 1, 'test_significance': False, 'evaluate_effect_strength': False, 'confidence_intervals': False, 'target_units': 'att', 'effect_modifiers': ['TotalIncome', 'LoanAmount', 'Education', 'Property_Area', 'Self_Employed', 'Loan_Amount_Term']}\n",
      "{'control_value': 0, 'treatment_value': 1, 'test_significance': False, 'evaluate_effect_strength': False, 'confidence_intervals': False, 'target_units': 'att', 'effect_modifiers': ['TotalIncome', 'LoanAmount', 'Education', 'Property_Area', 'Self_Employed', 'Loan_Amount_Term']}\n",
      "{'control_value': 0, 'treatment_value': 1, 'test_significance': False, 'evaluate_effect_strength': False, 'confidence_intervals': False, 'target_units': 'att', 'effect_modifiers': ['TotalIncome', 'LoanAmount', 'Education', 'Property_Area', 'Self_Employed', 'Loan_Amount_Term']}\n",
      "{'control_value': 0, 'treatment_value': 1, 'test_significance': False, 'evaluate_effect_strength': False, 'confidence_intervals': False, 'target_units': 'att', 'effect_modifiers': ['TotalIncome', 'LoanAmount', 'Education', 'Property_Area', 'Self_Employed', 'Loan_Amount_Term']}\n",
      "{'control_value': 0, 'treatment_value': 1, 'test_significance': False, 'evaluate_effect_strength': False, 'confidence_intervals': False, 'target_units': 'att', 'effect_modifiers': ['TotalIncome', 'LoanAmount', 'Education', 'Property_Area', 'Self_Employed', 'Loan_Amount_Term']}\n",
      "{'control_value': 0, 'treatment_value': 1, 'test_significance': False, 'evaluate_effect_strength': False, 'confidence_intervals': False, 'target_units': 'att', 'effect_modifiers': ['TotalIncome', 'LoanAmount', 'Education', 'Property_Area', 'Self_Employed', 'Loan_Amount_Term']}\n",
      "{'control_value': 0, 'treatment_value': 1, 'test_significance': False, 'evaluate_effect_strength': False, 'confidence_intervals': False, 'target_units': 'att', 'effect_modifiers': ['TotalIncome', 'LoanAmount', 'Education', 'Property_Area', 'Self_Employed', 'Loan_Amount_Term']}\n",
      "{'control_value': 0, 'treatment_value': 1, 'test_significance': False, 'evaluate_effect_strength': False, 'confidence_intervals': False, 'target_units': 'att', 'effect_modifiers': ['TotalIncome', 'LoanAmount', 'Education', 'Property_Area', 'Self_Employed', 'Loan_Amount_Term']}\n",
      "{'control_value': 0, 'treatment_value': 1, 'test_significance': False, 'evaluate_effect_strength': False, 'confidence_intervals': False, 'target_units': 'att', 'effect_modifiers': ['TotalIncome', 'LoanAmount', 'Education', 'Property_Area', 'Self_Employed', 'Loan_Amount_Term']}\n",
      "{'control_value': 0, 'treatment_value': 1, 'test_significance': False, 'evaluate_effect_strength': False, 'confidence_intervals': False, 'target_units': 'att', 'effect_modifiers': ['TotalIncome', 'LoanAmount', 'Education', 'Property_Area', 'Self_Employed', 'Loan_Amount_Term']}\n",
      "{'control_value': 0, 'treatment_value': 1, 'test_significance': False, 'evaluate_effect_strength': False, 'confidence_intervals': False, 'target_units': 'att', 'effect_modifiers': ['TotalIncome', 'LoanAmount', 'Education', 'Property_Area', 'Self_Employed', 'Loan_Amount_Term']}\n",
      "{'control_value': 0, 'treatment_value': 1, 'test_significance': False, 'evaluate_effect_strength': False, 'confidence_intervals': False, 'target_units': 'att', 'effect_modifiers': ['TotalIncome', 'LoanAmount', 'Education', 'Property_Area', 'Self_Employed', 'Loan_Amount_Term']}\n",
      "{'control_value': 0, 'treatment_value': 1, 'test_significance': False, 'evaluate_effect_strength': False, 'confidence_intervals': False, 'target_units': 'att', 'effect_modifiers': ['TotalIncome', 'LoanAmount', 'Education', 'Property_Area', 'Self_Employed', 'Loan_Amount_Term']}\n",
      "{'control_value': 0, 'treatment_value': 1, 'test_significance': False, 'evaluate_effect_strength': False, 'confidence_intervals': False, 'target_units': 'att', 'effect_modifiers': ['TotalIncome', 'LoanAmount', 'Education', 'Property_Area', 'Self_Employed', 'Loan_Amount_Term']}\n",
      "{'control_value': 0, 'treatment_value': 1, 'test_significance': False, 'evaluate_effect_strength': False, 'confidence_intervals': False, 'target_units': 'att', 'effect_modifiers': ['TotalIncome', 'LoanAmount', 'Education', 'Property_Area', 'Self_Employed', 'Loan_Amount_Term']}\n",
      "{'control_value': 0, 'treatment_value': 1, 'test_significance': False, 'evaluate_effect_strength': False, 'confidence_intervals': False, 'target_units': 'att', 'effect_modifiers': ['TotalIncome', 'LoanAmount', 'Education', 'Property_Area', 'Self_Employed', 'Loan_Amount_Term']}\n",
      "{'control_value': 0, 'treatment_value': 1, 'test_significance': False, 'evaluate_effect_strength': False, 'confidence_intervals': False, 'target_units': 'att', 'effect_modifiers': ['TotalIncome', 'LoanAmount', 'Education', 'Property_Area', 'Self_Employed', 'Loan_Amount_Term']}\n",
      "{'control_value': 0, 'treatment_value': 1, 'test_significance': False, 'evaluate_effect_strength': False, 'confidence_intervals': False, 'target_units': 'att', 'effect_modifiers': ['TotalIncome', 'LoanAmount', 'Education', 'Property_Area', 'Self_Employed', 'Loan_Amount_Term']}\n",
      "{'control_value': 0, 'treatment_value': 1, 'test_significance': False, 'evaluate_effect_strength': False, 'confidence_intervals': False, 'target_units': 'att', 'effect_modifiers': ['TotalIncome', 'LoanAmount', 'Education', 'Property_Area', 'Self_Employed', 'Loan_Amount_Term']}\n",
      "{'control_value': 0, 'treatment_value': 1, 'test_significance': False, 'evaluate_effect_strength': False, 'confidence_intervals': False, 'target_units': 'att', 'effect_modifiers': ['TotalIncome', 'LoanAmount', 'Education', 'Property_Area', 'Self_Employed', 'Loan_Amount_Term']}\n",
      "{'control_value': 0, 'treatment_value': 1, 'test_significance': False, 'evaluate_effect_strength': False, 'confidence_intervals': False, 'target_units': 'att', 'effect_modifiers': ['TotalIncome', 'LoanAmount', 'Education', 'Property_Area', 'Self_Employed', 'Loan_Amount_Term']}\n",
      "{'control_value': 0, 'treatment_value': 1, 'test_significance': False, 'evaluate_effect_strength': False, 'confidence_intervals': False, 'target_units': 'att', 'effect_modifiers': ['TotalIncome', 'LoanAmount', 'Education', 'Property_Area', 'Self_Employed', 'Loan_Amount_Term']}\n",
      "{'control_value': 0, 'treatment_value': 1, 'test_significance': False, 'evaluate_effect_strength': False, 'confidence_intervals': False, 'target_units': 'att', 'effect_modifiers': ['TotalIncome', 'LoanAmount', 'Education', 'Property_Area', 'Self_Employed', 'Loan_Amount_Term']}\n",
      "{'control_value': 0, 'treatment_value': 1, 'test_significance': False, 'evaluate_effect_strength': False, 'confidence_intervals': False, 'target_units': 'att', 'effect_modifiers': ['TotalIncome', 'LoanAmount', 'Education', 'Property_Area', 'Self_Employed', 'Loan_Amount_Term']}\n",
      "{'control_value': 0, 'treatment_value': 1, 'test_significance': False, 'evaluate_effect_strength': False, 'confidence_intervals': False, 'target_units': 'att', 'effect_modifiers': ['TotalIncome', 'LoanAmount', 'Education', 'Property_Area', 'Self_Employed', 'Loan_Amount_Term']}\n"
     ]
    },
    {
     "name": "stdout",
     "output_type": "stream",
     "text": [
      "{'control_value': 0, 'treatment_value': 1, 'test_significance': False, 'evaluate_effect_strength': False, 'confidence_intervals': False, 'target_units': 'att', 'effect_modifiers': ['TotalIncome', 'LoanAmount', 'Education', 'Property_Area', 'Self_Employed', 'Loan_Amount_Term']}\n",
      "{'control_value': 0, 'treatment_value': 1, 'test_significance': False, 'evaluate_effect_strength': False, 'confidence_intervals': False, 'target_units': 'att', 'effect_modifiers': ['TotalIncome', 'LoanAmount', 'Education', 'Property_Area', 'Self_Employed', 'Loan_Amount_Term']}\n",
      "{'control_value': 0, 'treatment_value': 1, 'test_significance': False, 'evaluate_effect_strength': False, 'confidence_intervals': False, 'target_units': 'att', 'effect_modifiers': ['TotalIncome', 'LoanAmount', 'Education', 'Property_Area', 'Self_Employed', 'Loan_Amount_Term']}\n",
      "{'control_value': 0, 'treatment_value': 1, 'test_significance': False, 'evaluate_effect_strength': False, 'confidence_intervals': False, 'target_units': 'att', 'effect_modifiers': ['TotalIncome', 'LoanAmount', 'Education', 'Property_Area', 'Self_Employed', 'Loan_Amount_Term']}\n",
      "{'control_value': 0, 'treatment_value': 1, 'test_significance': False, 'evaluate_effect_strength': False, 'confidence_intervals': False, 'target_units': 'att', 'effect_modifiers': ['TotalIncome', 'LoanAmount', 'Education', 'Property_Area', 'Self_Employed', 'Loan_Amount_Term']}\n",
      "{'control_value': 0, 'treatment_value': 1, 'test_significance': False, 'evaluate_effect_strength': False, 'confidence_intervals': False, 'target_units': 'att', 'effect_modifiers': ['TotalIncome', 'LoanAmount', 'Education', 'Property_Area', 'Self_Employed', 'Loan_Amount_Term']}\n",
      "{'control_value': 0, 'treatment_value': 1, 'test_significance': False, 'evaluate_effect_strength': False, 'confidence_intervals': False, 'target_units': 'att', 'effect_modifiers': ['TotalIncome', 'LoanAmount', 'Education', 'Property_Area', 'Self_Employed', 'Loan_Amount_Term']}\n",
      "{'control_value': 0, 'treatment_value': 1, 'test_significance': False, 'evaluate_effect_strength': False, 'confidence_intervals': False, 'target_units': 'att', 'effect_modifiers': ['TotalIncome', 'LoanAmount', 'Education', 'Property_Area', 'Self_Employed', 'Loan_Amount_Term']}\n",
      "{'control_value': 0, 'treatment_value': 1, 'test_significance': False, 'evaluate_effect_strength': False, 'confidence_intervals': False, 'target_units': 'att', 'effect_modifiers': ['TotalIncome', 'LoanAmount', 'Education', 'Property_Area', 'Self_Employed', 'Loan_Amount_Term']}\n",
      "{'control_value': 0, 'treatment_value': 1, 'test_significance': False, 'evaluate_effect_strength': False, 'confidence_intervals': False, 'target_units': 'att', 'effect_modifiers': ['TotalIncome', 'LoanAmount', 'Education', 'Property_Area', 'Self_Employed', 'Loan_Amount_Term']}\n",
      "{'control_value': 0, 'treatment_value': 1, 'test_significance': False, 'evaluate_effect_strength': False, 'confidence_intervals': False, 'target_units': 'att', 'effect_modifiers': ['TotalIncome', 'LoanAmount', 'Education', 'Property_Area', 'Self_Employed', 'Loan_Amount_Term']}\n",
      "{'control_value': 0, 'treatment_value': 1, 'test_significance': False, 'evaluate_effect_strength': False, 'confidence_intervals': False, 'target_units': 'att', 'effect_modifiers': ['TotalIncome', 'LoanAmount', 'Education', 'Property_Area', 'Self_Employed', 'Loan_Amount_Term']}\n",
      "{'control_value': 0, 'treatment_value': 1, 'test_significance': False, 'evaluate_effect_strength': False, 'confidence_intervals': False, 'target_units': 'att', 'effect_modifiers': ['TotalIncome', 'LoanAmount', 'Education', 'Property_Area', 'Self_Employed', 'Loan_Amount_Term']}\n",
      "{'control_value': 0, 'treatment_value': 1, 'test_significance': False, 'evaluate_effect_strength': False, 'confidence_intervals': False, 'target_units': 'att', 'effect_modifiers': ['TotalIncome', 'LoanAmount', 'Education', 'Property_Area', 'Self_Employed', 'Loan_Amount_Term']}\n",
      "{'control_value': 0, 'treatment_value': 1, 'test_significance': False, 'evaluate_effect_strength': False, 'confidence_intervals': False, 'target_units': 'att', 'effect_modifiers': ['TotalIncome', 'LoanAmount', 'Education', 'Property_Area', 'Self_Employed', 'Loan_Amount_Term']}\n",
      "{'control_value': 0, 'treatment_value': 1, 'test_significance': False, 'evaluate_effect_strength': False, 'confidence_intervals': False, 'target_units': 'att', 'effect_modifiers': ['TotalIncome', 'LoanAmount', 'Education', 'Property_Area', 'Self_Employed', 'Loan_Amount_Term']}\n",
      "{'control_value': 0, 'treatment_value': 1, 'test_significance': False, 'evaluate_effect_strength': False, 'confidence_intervals': False, 'target_units': 'att', 'effect_modifiers': ['TotalIncome', 'LoanAmount', 'Education', 'Property_Area', 'Self_Employed', 'Loan_Amount_Term']}\n",
      "{'control_value': 0, 'treatment_value': 1, 'test_significance': False, 'evaluate_effect_strength': False, 'confidence_intervals': False, 'target_units': 'att', 'effect_modifiers': ['TotalIncome', 'LoanAmount', 'Education', 'Property_Area', 'Self_Employed', 'Loan_Amount_Term']}\n",
      "{'control_value': 0, 'treatment_value': 1, 'test_significance': False, 'evaluate_effect_strength': False, 'confidence_intervals': False, 'target_units': 'att', 'effect_modifiers': ['TotalIncome', 'LoanAmount', 'Education', 'Property_Area', 'Self_Employed', 'Loan_Amount_Term']}\n",
      "{'control_value': 0, 'treatment_value': 1, 'test_significance': False, 'evaluate_effect_strength': False, 'confidence_intervals': False, 'target_units': 'att', 'effect_modifiers': ['TotalIncome', 'LoanAmount', 'Education', 'Property_Area', 'Self_Employed', 'Loan_Amount_Term']}\n",
      "{'control_value': 0, 'treatment_value': 1, 'test_significance': False, 'evaluate_effect_strength': False, 'confidence_intervals': False, 'target_units': 'att', 'effect_modifiers': ['TotalIncome', 'LoanAmount', 'Education', 'Property_Area', 'Self_Employed', 'Loan_Amount_Term']}\n",
      "{'control_value': 0, 'treatment_value': 1, 'test_significance': False, 'evaluate_effect_strength': False, 'confidence_intervals': False, 'target_units': 'att', 'effect_modifiers': ['TotalIncome', 'LoanAmount', 'Education', 'Property_Area', 'Self_Employed', 'Loan_Amount_Term']}\n",
      "{'control_value': 0, 'treatment_value': 1, 'test_significance': False, 'evaluate_effect_strength': False, 'confidence_intervals': False, 'target_units': 'att', 'effect_modifiers': ['TotalIncome', 'LoanAmount', 'Education', 'Property_Area', 'Self_Employed', 'Loan_Amount_Term']}\n",
      "{'control_value': 0, 'treatment_value': 1, 'test_significance': False, 'evaluate_effect_strength': False, 'confidence_intervals': False, 'target_units': 'att', 'effect_modifiers': ['TotalIncome', 'LoanAmount', 'Education', 'Property_Area', 'Self_Employed', 'Loan_Amount_Term']}\n",
      "{'control_value': 0, 'treatment_value': 1, 'test_significance': False, 'evaluate_effect_strength': False, 'confidence_intervals': False, 'target_units': 'att', 'effect_modifiers': ['TotalIncome', 'LoanAmount', 'Education', 'Property_Area', 'Self_Employed', 'Loan_Amount_Term']}\n",
      "{'control_value': 0, 'treatment_value': 1, 'test_significance': False, 'evaluate_effect_strength': False, 'confidence_intervals': False, 'target_units': 'att', 'effect_modifiers': ['TotalIncome', 'LoanAmount', 'Education', 'Property_Area', 'Self_Employed', 'Loan_Amount_Term']}\n",
      "{'control_value': 0, 'treatment_value': 1, 'test_significance': False, 'evaluate_effect_strength': False, 'confidence_intervals': False, 'target_units': 'att', 'effect_modifiers': ['TotalIncome', 'LoanAmount', 'Education', 'Property_Area', 'Self_Employed', 'Loan_Amount_Term']}\n",
      "{'control_value': 0, 'treatment_value': 1, 'test_significance': False, 'evaluate_effect_strength': False, 'confidence_intervals': False, 'target_units': 'att', 'effect_modifiers': ['TotalIncome', 'LoanAmount', 'Education', 'Property_Area', 'Self_Employed', 'Loan_Amount_Term']}\n",
      "{'control_value': 0, 'treatment_value': 1, 'test_significance': False, 'evaluate_effect_strength': False, 'confidence_intervals': False, 'target_units': 'att', 'effect_modifiers': ['TotalIncome', 'LoanAmount', 'Education', 'Property_Area', 'Self_Employed', 'Loan_Amount_Term']}\n",
      "{'control_value': 0, 'treatment_value': 1, 'test_significance': False, 'evaluate_effect_strength': False, 'confidence_intervals': False, 'target_units': 'att', 'effect_modifiers': ['TotalIncome', 'LoanAmount', 'Education', 'Property_Area', 'Self_Employed', 'Loan_Amount_Term']}\n"
     ]
    },
    {
     "name": "stdout",
     "output_type": "stream",
     "text": [
      "{'control_value': 0, 'treatment_value': 1, 'test_significance': False, 'evaluate_effect_strength': False, 'confidence_intervals': False, 'target_units': 'att', 'effect_modifiers': ['TotalIncome', 'LoanAmount', 'Education', 'Property_Area', 'Self_Employed', 'Loan_Amount_Term']}\n",
      "{'control_value': 0, 'treatment_value': 1, 'test_significance': False, 'evaluate_effect_strength': False, 'confidence_intervals': False, 'target_units': 'att', 'effect_modifiers': ['TotalIncome', 'LoanAmount', 'Education', 'Property_Area', 'Self_Employed', 'Loan_Amount_Term']}\n",
      "{'control_value': 0, 'treatment_value': 1, 'test_significance': False, 'evaluate_effect_strength': False, 'confidence_intervals': False, 'target_units': 'att', 'effect_modifiers': ['TotalIncome', 'LoanAmount', 'Education', 'Property_Area', 'Self_Employed', 'Loan_Amount_Term']}\n",
      "{'control_value': 0, 'treatment_value': 1, 'test_significance': False, 'evaluate_effect_strength': False, 'confidence_intervals': False, 'target_units': 'att', 'effect_modifiers': ['TotalIncome', 'LoanAmount', 'Education', 'Property_Area', 'Self_Employed', 'Loan_Amount_Term']}\n",
      "{'control_value': 0, 'treatment_value': 1, 'test_significance': False, 'evaluate_effect_strength': False, 'confidence_intervals': False, 'target_units': 'att', 'effect_modifiers': ['TotalIncome', 'LoanAmount', 'Education', 'Property_Area', 'Self_Employed', 'Loan_Amount_Term']}\n",
      "{'control_value': 0, 'treatment_value': 1, 'test_significance': False, 'evaluate_effect_strength': False, 'confidence_intervals': False, 'target_units': 'att', 'effect_modifiers': ['TotalIncome', 'LoanAmount', 'Education', 'Property_Area', 'Self_Employed', 'Loan_Amount_Term']}\n",
      "{'control_value': 0, 'treatment_value': 1, 'test_significance': False, 'evaluate_effect_strength': False, 'confidence_intervals': False, 'target_units': 'att', 'effect_modifiers': ['TotalIncome', 'LoanAmount', 'Education', 'Property_Area', 'Self_Employed', 'Loan_Amount_Term']}\n",
      "{'control_value': 0, 'treatment_value': 1, 'test_significance': False, 'evaluate_effect_strength': False, 'confidence_intervals': False, 'target_units': 'att', 'effect_modifiers': ['TotalIncome', 'LoanAmount', 'Education', 'Property_Area', 'Self_Employed', 'Loan_Amount_Term']}\n",
      "{'control_value': 0, 'treatment_value': 1, 'test_significance': False, 'evaluate_effect_strength': False, 'confidence_intervals': False, 'target_units': 'att', 'effect_modifiers': ['TotalIncome', 'LoanAmount', 'Education', 'Property_Area', 'Self_Employed', 'Loan_Amount_Term']}\n",
      "{'control_value': 0, 'treatment_value': 1, 'test_significance': False, 'evaluate_effect_strength': False, 'confidence_intervals': False, 'target_units': 'att', 'effect_modifiers': ['TotalIncome', 'LoanAmount', 'Education', 'Property_Area', 'Self_Employed', 'Loan_Amount_Term']}\n",
      "{'control_value': 0, 'treatment_value': 1, 'test_significance': False, 'evaluate_effect_strength': False, 'confidence_intervals': False, 'target_units': 'att', 'effect_modifiers': ['TotalIncome', 'LoanAmount', 'Education', 'Property_Area', 'Self_Employed', 'Loan_Amount_Term']}\n",
      "Refute: Add a random common cause\n",
      "Estimated effect:0.7110373935092399\n",
      "New effect:0.7109089801204327\n",
      "p value:0.94\n",
      "\n"
     ]
    }
   ],
   "source": [
    "estimate = model.estimate_effect(identified_estimand, \n",
    "                                 method_name=\"backdoor.linear_regression\",\n",
    "                                target_units=\"att\")\n",
    "print({estimate.value})\n",
    "val_est_rcc=model.refute_estimate(identified_estimand,estimate,method_name=\"random_common_cause\")\n",
    "print(val_est_rcc)"
   ]
  },
  {
   "cell_type": "markdown",
   "id": "5f1b94c5",
   "metadata": {},
   "source": [
    "The assumptions can be seen from the visualization above. We assume that loan eligibility is affected using the direction of the edges. In this problem, we have removed gender's affect and leave it up to the reader to explore benefit of adding the gender variable to the problem."
   ]
  },
  {
   "cell_type": "markdown",
   "id": "f516dfdb",
   "metadata": {},
   "source": [
    "# Bayesian Network Inference"
   ]
  },
  {
   "cell_type": "markdown",
   "id": "c1c0f8b2",
   "metadata": {},
   "source": [
    "We can start by intiating the inference object by providing the above BN structure. We can instantiate a BayesianNetwork.\n",
    "\n"
   ]
  },
  {
   "cell_type": "code",
   "execution_count": 21,
   "id": "25ed1bb9",
   "metadata": {},
   "outputs": [
    {
     "name": "stdout",
     "output_type": "stream",
     "text": [
      "propensity_score_matching\n"
     ]
    },
    {
     "ename": "Exception",
     "evalue": "No common causes/confounders present. Propensity score based methods are not applicable",
     "output_type": "error",
     "traceback": [
      "\u001b[1;31m---------------------------------------------------------------------------\u001b[0m",
      "\u001b[1;31mException\u001b[0m                                 Traceback (most recent call last)",
      "Input \u001b[1;32mIn [21]\u001b[0m, in \u001b[0;36m<cell line: 1>\u001b[1;34m()\u001b[0m\n\u001b[1;32m----> 1\u001b[0m est_psm \u001b[38;5;241m=\u001b[39m \u001b[43mmodel\u001b[49m\u001b[38;5;241;43m.\u001b[39;49m\u001b[43mestimate_effect\u001b[49m\u001b[43m(\u001b[49m\u001b[43mest_ident\u001b[49m\u001b[43m,\u001b[49m\u001b[43mmethod_name\u001b[49m\u001b[38;5;241;43m=\u001b[39;49m\u001b[38;5;124;43m\"\u001b[39;49m\u001b[38;5;124;43mbackdoor.propensity_score_matching\u001b[39;49m\u001b[38;5;124;43m\"\u001b[39;49m\u001b[43m)\u001b[49m\n\u001b[0;32m      3\u001b[0m val_est_rcc\u001b[38;5;241m=\u001b[39mmodel\u001b[38;5;241m.\u001b[39mrefute_estimate(est_ident,est_psm,method_name\u001b[38;5;241m=\u001b[39m\u001b[38;5;124m\"\u001b[39m\u001b[38;5;124mrandom_common_cause\u001b[39m\u001b[38;5;124m\"\u001b[39m)\n\u001b[0;32m      4\u001b[0m \u001b[38;5;28mprint\u001b[39m(val_est_rcc)\n",
      "File \u001b[1;32m~\\anaconda3\\lib\\site-packages\\dowhy\\causal_model.py:297\u001b[0m, in \u001b[0;36mCausalModel.estimate_effect\u001b[1;34m(self, identified_estimand, method_name, control_value, treatment_value, test_significance, evaluate_effect_strength, confidence_intervals, target_units, effect_modifiers, fit_estimator, method_params)\u001b[0m\n\u001b[0;32m    295\u001b[0m     \u001b[38;5;28;01mif\u001b[39;00m method_params \u001b[38;5;129;01mis\u001b[39;00m \u001b[38;5;28;01mNone\u001b[39;00m:\n\u001b[0;32m    296\u001b[0m         method_params \u001b[38;5;241m=\u001b[39m {}\n\u001b[1;32m--> 297\u001b[0m     \u001b[38;5;28mself\u001b[39m\u001b[38;5;241m.\u001b[39mcausal_estimator \u001b[38;5;241m=\u001b[39m causal_estimator_class(\n\u001b[0;32m    298\u001b[0m         \u001b[38;5;28mself\u001b[39m\u001b[38;5;241m.\u001b[39m_data,\n\u001b[0;32m    299\u001b[0m         identified_estimand,\n\u001b[0;32m    300\u001b[0m         \u001b[38;5;28mself\u001b[39m\u001b[38;5;241m.\u001b[39m_treatment, \u001b[38;5;28mself\u001b[39m\u001b[38;5;241m.\u001b[39m_outcome, \u001b[38;5;66;03m#names of treatment and outcome\u001b[39;00m\n\u001b[0;32m    301\u001b[0m         control_value \u001b[38;5;241m=\u001b[39m control_value,\n\u001b[0;32m    302\u001b[0m         treatment_value \u001b[38;5;241m=\u001b[39m treatment_value,\n\u001b[0;32m    303\u001b[0m         test_significance\u001b[38;5;241m=\u001b[39mtest_significance,\n\u001b[0;32m    304\u001b[0m         evaluate_effect_strength\u001b[38;5;241m=\u001b[39mevaluate_effect_strength,\n\u001b[0;32m    305\u001b[0m         confidence_intervals \u001b[38;5;241m=\u001b[39m confidence_intervals,\n\u001b[0;32m    306\u001b[0m         target_units \u001b[38;5;241m=\u001b[39m target_units,\n\u001b[0;32m    307\u001b[0m         effect_modifiers \u001b[38;5;241m=\u001b[39m effect_modifiers,\n\u001b[0;32m    308\u001b[0m         \u001b[38;5;241m*\u001b[39m\u001b[38;5;241m*\u001b[39mmethod_params,\n\u001b[0;32m    309\u001b[0m         \u001b[38;5;241m*\u001b[39m\u001b[38;5;241m*\u001b[39mextra_args)\n\u001b[0;32m    310\u001b[0m \u001b[38;5;28;01melse\u001b[39;00m:\n\u001b[0;32m    311\u001b[0m     \u001b[38;5;66;03m# Estimator had been computed in a previous call\u001b[39;00m\n\u001b[0;32m    312\u001b[0m     \u001b[38;5;28;01massert\u001b[39;00m \u001b[38;5;28mself\u001b[39m\u001b[38;5;241m.\u001b[39mcausal_estimator \u001b[38;5;129;01mis\u001b[39;00m \u001b[38;5;129;01mnot\u001b[39;00m \u001b[38;5;28;01mNone\u001b[39;00m\n",
      "File \u001b[1;32m~\\anaconda3\\lib\\site-packages\\dowhy\\causal_estimators\\propensity_score_matching_estimator.py:38\u001b[0m, in \u001b[0;36mPropensityScoreMatchingEstimator.__init__\u001b[1;34m(self, propensity_score_model, recalculate_propensity_score, propensity_score_column, *args, **kwargs)\u001b[0m\n\u001b[0;32m     20\u001b[0m \u001b[38;5;28;01mdef\u001b[39;00m \u001b[38;5;21m__init__\u001b[39m(\n\u001b[0;32m     21\u001b[0m     \u001b[38;5;28mself\u001b[39m,\n\u001b[0;32m     22\u001b[0m     \u001b[38;5;241m*\u001b[39margs,\n\u001b[1;32m   (...)\u001b[0m\n\u001b[0;32m     25\u001b[0m     propensity_score_column\u001b[38;5;241m=\u001b[39m\u001b[38;5;124m\"\u001b[39m\u001b[38;5;124mpropensity_score\u001b[39m\u001b[38;5;124m\"\u001b[39m,\n\u001b[0;32m     26\u001b[0m     \u001b[38;5;241m*\u001b[39m\u001b[38;5;241m*\u001b[39mkwargs):\n\u001b[0;32m     27\u001b[0m     \u001b[38;5;124;03m\"\"\"\u001b[39;00m\n\u001b[0;32m     28\u001b[0m \u001b[38;5;124;03m    :param propensity_score_model: Model used to compute propensity score.\u001b[39;00m\n\u001b[0;32m     29\u001b[0m \u001b[38;5;124;03m        Can be any classification model that supports fit() and\u001b[39;00m\n\u001b[1;32m   (...)\u001b[0m\n\u001b[0;32m     36\u001b[0m \n\u001b[0;32m     37\u001b[0m \u001b[38;5;124;03m    \"\"\"\u001b[39;00m\n\u001b[1;32m---> 38\u001b[0m     \u001b[38;5;28msuper\u001b[39m()\u001b[38;5;241m.\u001b[39m\u001b[38;5;21m__init__\u001b[39m(\n\u001b[0;32m     39\u001b[0m         \u001b[38;5;241m*\u001b[39margs,\n\u001b[0;32m     40\u001b[0m         propensity_score_model\u001b[38;5;241m=\u001b[39mpropensity_score_model,\n\u001b[0;32m     41\u001b[0m         recalculate_propensity_score\u001b[38;5;241m=\u001b[39mrecalculate_propensity_score,\n\u001b[0;32m     42\u001b[0m         propensity_score_column\u001b[38;5;241m=\u001b[39mpropensity_score_column,\n\u001b[0;32m     43\u001b[0m         \u001b[38;5;241m*\u001b[39m\u001b[38;5;241m*\u001b[39mkwargs)\n\u001b[0;32m     45\u001b[0m     \u001b[38;5;28mself\u001b[39m\u001b[38;5;241m.\u001b[39mlogger\u001b[38;5;241m.\u001b[39minfo(\u001b[38;5;124m\"\u001b[39m\u001b[38;5;124mINFO: Using Propensity Score Matching Estimator\u001b[39m\u001b[38;5;124m\"\u001b[39m)\n\u001b[0;32m     46\u001b[0m     \u001b[38;5;28mself\u001b[39m\u001b[38;5;241m.\u001b[39msymbolic_estimator \u001b[38;5;241m=\u001b[39m \u001b[38;5;28mself\u001b[39m\u001b[38;5;241m.\u001b[39mconstruct_symbolic_estimator(\u001b[38;5;28mself\u001b[39m\u001b[38;5;241m.\u001b[39m_target_estimand)\n",
      "File \u001b[1;32m~\\anaconda3\\lib\\site-packages\\dowhy\\causal_estimators\\propensity_score_estimator.py:71\u001b[0m, in \u001b[0;36mPropensityScoreEstimator.__init__\u001b[1;34m(self, propensity_score_model, recalculate_propensity_score, propensity_score_column, *args, **kwargs)\u001b[0m\n\u001b[0;32m     69\u001b[0m error_msg \u001b[38;5;241m=\u001b[39m \u001b[38;5;124m\"\u001b[39m\u001b[38;5;124mNo common causes/confounders present. Propensity score based methods are not applicable\u001b[39m\u001b[38;5;124m\"\u001b[39m\n\u001b[0;32m     70\u001b[0m \u001b[38;5;28mself\u001b[39m\u001b[38;5;241m.\u001b[39mlogger\u001b[38;5;241m.\u001b[39merror(error_msg)\n\u001b[1;32m---> 71\u001b[0m \u001b[38;5;28;01mraise\u001b[39;00m \u001b[38;5;167;01mException\u001b[39;00m(error_msg)\n",
      "\u001b[1;31mException\u001b[0m: No common causes/confounders present. Propensity score based methods are not applicable"
     ]
    }
   ],
   "source": [
    "\n",
    "est_psm = model.estimate_effect(est_ident,method_name=\"backdoor.propensity_score_matching\")\n",
    "\n",
    "val_est_rcc=model.refute_estimate(est_ident,est_psm,method_name=\"random_common_cause\")\n",
    "print(val_est_rcc)"
   ]
  },
  {
   "cell_type": "markdown",
   "id": "8459c50a",
   "metadata": {},
   "source": [
    "With the learnt structure model from earlier and also the discretised data, we will now fit the probability distrbution of the Bayesian Network.The first step is specifying all of the states that every node can take. This can be done either from data, or providing a dictionary of node values. We use the complete dataset here to avoid cases where states in our test set don't exist within the training set. For real-world applications, these states might have to be provided using the dictionary method."
   ]
  },
  {
   "cell_type": "code",
   "execution_count": 19,
   "id": "3e04277d",
   "metadata": {},
   "outputs": [],
   "source": [
    "bn = bn.fit_node_states(discretised_data)"
   ]
  },
  {
   "cell_type": "markdown",
   "id": "06a04061",
   "metadata": {},
   "source": [
    "As mentioned earlier, we are going to split the test and train data for evaluating the learnt BN."
   ]
  },
  {
   "cell_type": "code",
   "execution_count": 20,
   "id": "083bf4f6",
   "metadata": {},
   "outputs": [],
   "source": [
    "from sklearn.model_selection import train_test_split\n",
    "train, test = train_test_split(discretised_data, train_size=0.9, test_size=0.1, random_state=7)"
   ]
  },
  {
   "cell_type": "markdown",
   "id": "cda2f4d1",
   "metadata": {},
   "source": [
    "The fit_cpds method of BayesianNetwork accepts a dataset to learn the conditional probablilty distributions (CPDs) of each node, along with a method of how to do this fit [1]. Furthermore, we can use bn.cpds[\"Loan_Status\"] for checking the learnt conditional probabilities "
   ]
  },
  {
   "cell_type": "code",
   "execution_count": 21,
   "id": "99ae1300",
   "metadata": {},
   "outputs": [],
   "source": [
    "bn = bn.fit_cpds(train, method=\"BayesianEstimator\", bayes_prior=\"K2\")"
   ]
  },
  {
   "cell_type": "code",
   "execution_count": 22,
   "id": "18d317ab",
   "metadata": {},
   "outputs": [
    {
     "data": {
      "text/html": [
       "<div>\n",
       "<style scoped>\n",
       "    .dataframe tbody tr th:only-of-type {\n",
       "        vertical-align: middle;\n",
       "    }\n",
       "\n",
       "    .dataframe tbody tr th {\n",
       "        vertical-align: top;\n",
       "    }\n",
       "\n",
       "    .dataframe thead tr th {\n",
       "        text-align: left;\n",
       "    }\n",
       "\n",
       "    .dataframe thead tr:last-of-type th {\n",
       "        text-align: right;\n",
       "    }\n",
       "</style>\n",
       "<table border=\"1\" class=\"dataframe\">\n",
       "  <thead>\n",
       "    <tr>\n",
       "      <th>Credit_History</th>\n",
       "      <th colspan=\"10\" halign=\"left\">0.0</th>\n",
       "      <th>...</th>\n",
       "      <th colspan=\"10\" halign=\"left\">1.0</th>\n",
       "    </tr>\n",
       "    <tr>\n",
       "      <th>LoanAmount</th>\n",
       "      <th colspan=\"6\" halign=\"left\">0</th>\n",
       "      <th colspan=\"4\" halign=\"left\">1</th>\n",
       "      <th>...</th>\n",
       "      <th colspan=\"4\" halign=\"left\">1</th>\n",
       "      <th colspan=\"6\" halign=\"left\">2</th>\n",
       "    </tr>\n",
       "    <tr>\n",
       "      <th>Loan_Amount_Term</th>\n",
       "      <th colspan=\"3\" halign=\"left\">0</th>\n",
       "      <th colspan=\"3\" halign=\"left\">1</th>\n",
       "      <th colspan=\"3\" halign=\"left\">0</th>\n",
       "      <th>1</th>\n",
       "      <th>...</th>\n",
       "      <th>0</th>\n",
       "      <th colspan=\"3\" halign=\"left\">1</th>\n",
       "      <th colspan=\"3\" halign=\"left\">0</th>\n",
       "      <th colspan=\"3\" halign=\"left\">1</th>\n",
       "    </tr>\n",
       "    <tr>\n",
       "      <th>TotalIncome</th>\n",
       "      <th>0</th>\n",
       "      <th>1</th>\n",
       "      <th>2</th>\n",
       "      <th>0</th>\n",
       "      <th>1</th>\n",
       "      <th>2</th>\n",
       "      <th>0</th>\n",
       "      <th>1</th>\n",
       "      <th>2</th>\n",
       "      <th>0</th>\n",
       "      <th>...</th>\n",
       "      <th>2</th>\n",
       "      <th>0</th>\n",
       "      <th>1</th>\n",
       "      <th>2</th>\n",
       "      <th>0</th>\n",
       "      <th>1</th>\n",
       "      <th>2</th>\n",
       "      <th>0</th>\n",
       "      <th>1</th>\n",
       "      <th>2</th>\n",
       "    </tr>\n",
       "    <tr>\n",
       "      <th>Loan_Status</th>\n",
       "      <th></th>\n",
       "      <th></th>\n",
       "      <th></th>\n",
       "      <th></th>\n",
       "      <th></th>\n",
       "      <th></th>\n",
       "      <th></th>\n",
       "      <th></th>\n",
       "      <th></th>\n",
       "      <th></th>\n",
       "      <th></th>\n",
       "      <th></th>\n",
       "      <th></th>\n",
       "      <th></th>\n",
       "      <th></th>\n",
       "      <th></th>\n",
       "      <th></th>\n",
       "      <th></th>\n",
       "      <th></th>\n",
       "      <th></th>\n",
       "      <th></th>\n",
       "    </tr>\n",
       "  </thead>\n",
       "  <tbody>\n",
       "    <tr>\n",
       "      <th>0</th>\n",
       "      <td>0.5</td>\n",
       "      <td>0.5</td>\n",
       "      <td>0.5</td>\n",
       "      <td>0.5</td>\n",
       "      <td>0.5</td>\n",
       "      <td>0.333333</td>\n",
       "      <td>0.5</td>\n",
       "      <td>0.8</td>\n",
       "      <td>0.5</td>\n",
       "      <td>0.5</td>\n",
       "      <td>...</td>\n",
       "      <td>0.5</td>\n",
       "      <td>0.5</td>\n",
       "      <td>0.192708</td>\n",
       "      <td>0.181818</td>\n",
       "      <td>0.5</td>\n",
       "      <td>0.5</td>\n",
       "      <td>0.5</td>\n",
       "      <td>0.333333</td>\n",
       "      <td>0.245283</td>\n",
       "      <td>0.5</td>\n",
       "    </tr>\n",
       "    <tr>\n",
       "      <th>1</th>\n",
       "      <td>0.5</td>\n",
       "      <td>0.5</td>\n",
       "      <td>0.5</td>\n",
       "      <td>0.5</td>\n",
       "      <td>0.5</td>\n",
       "      <td>0.666667</td>\n",
       "      <td>0.5</td>\n",
       "      <td>0.2</td>\n",
       "      <td>0.5</td>\n",
       "      <td>0.5</td>\n",
       "      <td>...</td>\n",
       "      <td>0.5</td>\n",
       "      <td>0.5</td>\n",
       "      <td>0.807292</td>\n",
       "      <td>0.818182</td>\n",
       "      <td>0.5</td>\n",
       "      <td>0.5</td>\n",
       "      <td>0.5</td>\n",
       "      <td>0.666667</td>\n",
       "      <td>0.754717</td>\n",
       "      <td>0.5</td>\n",
       "    </tr>\n",
       "  </tbody>\n",
       "</table>\n",
       "<p>2 rows × 36 columns</p>\n",
       "</div>"
      ],
      "text/plain": [
       "Credit_History    0.0                                                    ...  \\\n",
       "LoanAmount          0                                  1                 ...   \n",
       "Loan_Amount_Term    0              1                   0              1  ...   \n",
       "TotalIncome         0    1    2    0    1         2    0    1    2    0  ...   \n",
       "Loan_Status                                                              ...   \n",
       "0                 0.5  0.5  0.5  0.5  0.5  0.333333  0.5  0.8  0.5  0.5  ...   \n",
       "1                 0.5  0.5  0.5  0.5  0.5  0.666667  0.5  0.2  0.5  0.5  ...   \n",
       "\n",
       "Credit_History    1.0                                                    \\\n",
       "LoanAmount          1                             2                       \n",
       "Loan_Amount_Term    0    1                        0                   1   \n",
       "TotalIncome         2    0         1         2    0    1    2         0   \n",
       "Loan_Status                                                               \n",
       "0                 0.5  0.5  0.192708  0.181818  0.5  0.5  0.5  0.333333   \n",
       "1                 0.5  0.5  0.807292  0.818182  0.5  0.5  0.5  0.666667   \n",
       "\n",
       "Credit_History                   \n",
       "LoanAmount                       \n",
       "Loan_Amount_Term                 \n",
       "TotalIncome              1    2  \n",
       "Loan_Status                      \n",
       "0                 0.245283  0.5  \n",
       "1                 0.754717  0.5  \n",
       "\n",
       "[2 rows x 36 columns]"
      ]
     },
     "execution_count": 22,
     "metadata": {},
     "output_type": "execute_result"
    }
   ],
   "source": [
    "bn.cpds[\"Loan_Status\"]"
   ]
  },
  {
   "cell_type": "markdown",
   "id": "4ca7055b",
   "metadata": {},
   "source": [
    "Lets use an example to see how the BN is performing"
   ]
  },
  {
   "cell_type": "code",
   "execution_count": 23,
   "id": "09e0dec3",
   "metadata": {},
   "outputs": [
    {
     "data": {
      "text/plain": [
       "Gender                      Male\n",
       "Married                      Yes\n",
       "Dependents                     0\n",
       "Education           Not Graduate\n",
       "Self_Employed                 No\n",
       "LoanAmount                   low\n",
       "Loan_Amount_Term           short\n",
       "Credit_History                 1\n",
       "Property_Area              Rural\n",
       "TotalIncome                  low\n",
       "Name: 18, dtype: object"
      ]
     },
     "execution_count": 23,
     "metadata": {},
     "output_type": "execute_result"
    }
   ],
   "source": [
    "discretised_data_copy.loc[18, discretised_data.columns != 'Loan_Status']"
   ]
  },
  {
   "cell_type": "markdown",
   "id": "8ea98d16",
   "metadata": {},
   "source": [
    "In the above example, we have an applicant with medium range Income needing property in Rural area. The loan term is short with low loan Amount as well and good credit history. Normally such application are given the loan. \n",
    "\n",
    "We can use bn.predict for Loan_Status"
   ]
  },
  {
   "cell_type": "code",
   "execution_count": 24,
   "id": "e399c1ee",
   "metadata": {},
   "outputs": [
    {
     "name": "stdout",
     "output_type": "stream",
     "text": [
      "The prediction is '1'\n"
     ]
    }
   ],
   "source": [
    "predictions = bn.predict(discretised_data, \"Loan_Status\")\n",
    "print(f\"The prediction is '{predictions.loc[50, 'Loan_Status_prediction']}'\")\n"
   ]
  },
  {
   "cell_type": "code",
   "execution_count": 25,
   "id": "98d3ba67",
   "metadata": {},
   "outputs": [
    {
     "name": "stdout",
     "output_type": "stream",
     "text": [
      "The ground truth is '1'\n"
     ]
    }
   ],
   "source": [
    "print(f\"The ground truth is '{discretised_data.loc[50, 'Loan_Status']}'\")\n"
   ]
  },
  {
   "cell_type": "markdown",
   "id": "2a1da82d",
   "metadata": {},
   "source": [
    "The above example demonstrate the inference by the learnt BN. It should be noted, that the BN also helps us interpret the results with the help of relationships between different variables in the BN. \n",
    "\n",
    "Inorder to fully evaluate the BN model, we are going to use the classification_report object from the causalnex which helps us get the precision, recall and Accuracy for different classes."
   ]
  },
  {
   "cell_type": "code",
   "execution_count": 26,
   "id": "973bda28",
   "metadata": {},
   "outputs": [
    {
     "data": {
      "text/plain": [
       "{'Loan_Status_0': {'precision': 0.8181818181818182,\n",
       "  'recall': 0.47368421052631576,\n",
       "  'f1-score': 0.6,\n",
       "  'support': 19},\n",
       " 'Loan_Status_1': {'precision': 0.803921568627451,\n",
       "  'recall': 0.9534883720930233,\n",
       "  'f1-score': 0.8723404255319148,\n",
       "  'support': 43},\n",
       " 'accuracy': 0.8064516129032258,\n",
       " 'macro avg': {'precision': 0.8110516934046346,\n",
       "  'recall': 0.7135862913096696,\n",
       "  'f1-score': 0.7361702127659574,\n",
       "  'support': 62},\n",
       " 'weighted avg': {'precision': 0.8082916451037894,\n",
       "  'recall': 0.8064516129032258,\n",
       "  'f1-score': 0.7888812628689087,\n",
       "  'support': 62}}"
      ]
     },
     "execution_count": 26,
     "metadata": {},
     "output_type": "execute_result"
    }
   ],
   "source": [
    "from causalnex.evaluation import classification_report\n",
    "\n",
    "classification_report(bn, test, \"Loan_Status\")"
   ]
  },
  {
   "cell_type": "markdown",
   "id": "57efe491",
   "metadata": {},
   "source": [
    "From the report above, we can see that precision and recall for giving loan to an applicant is high. This means that we can rely on the predictions for this class made by the model because of precision with lesser chance of missing the predictions which we should have made. The recall for an applicant not being elligible for loan is low which can be due to something missing in the BN structure and something to explore later.\n",
    "\n",
    "\n",
    "The overall Area Under the ROC Curve (AUC) is obtained using the code snippet below which comes with the CauselNex."
   ]
  },
  {
   "cell_type": "code",
   "execution_count": 28,
   "id": "3595d78c",
   "metadata": {},
   "outputs": [
    {
     "name": "stdout",
     "output_type": "stream",
     "text": [
      "0.8404006243496359\n"
     ]
    }
   ],
   "source": [
    "from causalnex.evaluation import roc_auc\n",
    "roc, auc = roc_auc(bn, test, \"Loan_Status\")\n",
    "print(auc)"
   ]
  },
  {
   "cell_type": "markdown",
   "id": "d4769b3e",
   "metadata": {},
   "source": [
    "To summarize, given that we have the processed loan dataset, we start by learning the causal relationships between different loan features in the form of the network structure in which we can add constraints to the connections between nodes using the bank’s professional knowledge. Once we have the causal relationships, we can use the train split of the data to learn the conditional probabilities for different states which in the end gives us the conditional probability to estimate the risk of giving a loan to a certain loan applicant. To evaluate the model, we can use ROC/AUC on the test dataset."
   ]
  }
 ],
 "metadata": {
  "kernelspec": {
   "display_name": "Python 3 (ipykernel)",
   "language": "python",
   "name": "python3"
  },
  "language_info": {
   "codemirror_mode": {
    "name": "ipython",
    "version": 3
   },
   "file_extension": ".py",
   "mimetype": "text/x-python",
   "name": "python",
   "nbconvert_exporter": "python",
   "pygments_lexer": "ipython3",
   "version": "3.9.12"
  }
 },
 "nbformat": 4,
 "nbformat_minor": 5
}
